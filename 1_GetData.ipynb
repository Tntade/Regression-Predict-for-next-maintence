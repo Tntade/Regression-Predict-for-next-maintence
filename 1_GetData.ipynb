{
 "cells": [
  {
   "cell_type": "code",
   "execution_count": 1,
   "metadata": {},
   "outputs": [],
   "source": [
    "import os,time,gc,re\n",
    "import pyspark\n",
    "import pandas as pd\n",
    "import numpy as np\n",
    "from datetime import datetime\n",
    "import warnings\n",
    "from dateutil.relativedelta import relativedelta\n",
    "\n",
    "from pyspark.sql.types import *\n",
    "from pyspark.sql.functions import *\n",
    "from pyspark import SparkContext,SparkConf,SQLContext\n",
    "from pyspark.sql import Window\n",
    "from pyspark.conf import SparkConf\n",
    "from pyspark.ml.feature import *\n",
    "from pyspark.ml import pipeline\n",
    "from pyspark.ml.evaluation import *\n",
    "from pyspark.sql import Row\n",
    "from pyspark.ml.pipeline import Pipeline\n",
    "from pyspark.ml.linalg import Vectors,VectorUDT\n",
    "from pyspark.sql.functions import mean,stddev,log\n",
    "from pyspark.ml.feature import MinMaxScaler,Normalizer\n",
    "from pyspark.mllib.tree import GradientBoostedTrees\n",
    "from pyspark.mllib.regression import LabeledPoint\n",
    "\n",
    "from pyspark.ml.feature import CountVectorizer\n",
    "from pyspark.mllib.linalg import SparseVector\n",
    "from pyspark.ml.evaluation import RegressionEvaluator\n",
    "from pyspark.ml.feature import StringIndexer, OneHotEncoder, VectorAssembler\n",
    "from pyspark.sql.functions import date_format\n",
    "\n",
    "from pyspark.ml.regression import GBTRegressor\n",
    "from pyspark.ml.evaluation import RegressionEvaluator\n",
    "\n",
    "import pyspark.sql.functions as fn\n",
    "warnings.filterwarnings('ignore')"
   ]
  },
  {
   "cell_type": "code",
   "execution_count": 2,
   "metadata": {},
   "outputs": [],
   "source": [
    "ft=time.time()"
   ]
  },
  {
   "cell_type": "code",
   "execution_count": 3,
   "metadata": {},
   "outputs": [
    {
     "name": "stdout",
     "output_type": "stream",
     "text": [
      "2020-08-06\n"
     ]
    }
   ],
   "source": [
    "spark = pyspark.sql.SparkSession.builder.appName('LQ_SKD_D111').config('spark.shuffle.consolidateFiles','true').getOrCreate()\n",
    "spark.sparkContext.setLogLevel('WARN')\n",
    "\n",
    "today=datetime.strftime(datetime.now(),'%Y-%m-%d')\n",
    "print(today)\n",
    "\n",
    "revise_types=['claim','routine_maintenance','accessory','accident_repair','general_repair',\n",
    "       'first_maintance','service_act']"
   ]
  },
  {
   "cell_type": "code",
   "execution_count": 4,
   "metadata": {},
   "outputs": [],
   "source": [
    "def get_miss_cols_org(dff):\n",
    "    tmp=dff.agg(*[(1-(fn.count(c)/fn.count('*'))).alias(c) for c in dff.columns])\n",
    "    cols=tmp.columns\n",
    "    leng=len(cols)\n",
    "    lst=tmp.collect()\n",
    "    miss_cols=[]\n",
    "    for i in range(leng):\n",
    "        v=[x[i] for x in lst][0]\n",
    "        if v>0:\n",
    "            miss_cols.append(cols[i])\n",
    "    return miss_cols\n",
    "\n",
    "\n",
    "def get_miss_cols_new(dff):\n",
    "    mis_cols=[]\n",
    "    cols=dff.columns\n",
    "    cols.remove('vin')\n",
    "    for x in cols:\n",
    "        tmp=dff.filter((col(x).isNull())|(col(x)=='')|(col(x)=='-'))\n",
    "        mis_len=tmp.count()\n",
    "        if mis_len>0:\n",
    "            mis_cols.append(x)\n",
    "    return mis_cols\n",
    "\n",
    "\n",
    "def check_df(df):\n",
    "    print(df.count())\n",
    "    print(df.select('vin','repair_date').dropDuplicates().count())\n",
    "    print(df.select('vin').distinct().count())"
   ]
  },
  {
   "cell_type": "markdown",
   "metadata": {},
   "source": [
    "#### <font color=red>1.读取主单"
   ]
  },
  {
   "cell_type": "code",
   "execution_count": 5,
   "metadata": {},
   "outputs": [],
   "source": [
    "def load_zhudan():\n",
    "\n",
    "    zhudan=spark.sql('select * from clms.dws_repair_info')\n",
    "\n",
    "    needs=['vin','repair_date','mileage','dealer_code','repair_amount','repair_amount_pre_discount',\n",
    "           'labor_fee','part_fee']\n",
    "\n",
    "    revise_types=['claim','routine_maintenance','accessory','accident_repair','general_repair',\n",
    "           'first_maintance','service_act']\n",
    "\n",
    "    zhudan=zhudan.select(needs+revise_types).dropDuplicates()\n",
    "    zhudan=zhudan.withColumn('brand',substring(col('vin'),1,3)).filter(col('brand')=='LSV').drop('brand').\\\n",
    "    withColumn('repair_date',to_date(col('repair_date'))).withColumnRenamed('mileage','mile').\\\n",
    "    withColumn('mile',col('mile').cast('Int')).\\\n",
    "    withColumn('labor_fee',ceil('labor_fee')).\\\n",
    "    withColumn('part_fee',ceil('part_fee')).\\\n",
    "    withColumn('repair_amount',col('labor_fee')+col('part_fee')).\\\n",
    "    withColumn('repair_amount_pre_discount',ceil('repair_amount_pre_discount')).\\\n",
    "    withColumn('repair_amount_pre_discount',when(col('repair_amount_pre_discount').isNull(),col('repair_amount')).otherwise(col('repair_amount_pre_discount'))).\\\n",
    "    withColumn('claim',when(col('claim').isin(['1.0','1']),lit(1)).otherwise(lit(0))).\\\n",
    "    withColumn('routine_maintenance',when(col('routine_maintenance').isin(['1.0','1']),lit(1)).otherwise(lit(0))).\\\n",
    "    withColumn('accessory',when(col('accessory').isin(['1.0','1']),lit(1)).otherwise(lit(0))).\\\n",
    "    withColumn('accident_repair',when(col('accident_repair').isin(['1.0','1']),lit(1)).otherwise(lit(0))).\\\n",
    "    withColumn('general_repair',when(col('general_repair').isin(['1.0','1']),lit(1)).otherwise(lit(0))).\\\n",
    "    withColumn('first_maintance',when(col('first_maintance').isin(['1.0','1']),lit(1)).otherwise(lit(0))).\\\n",
    "    withColumn('service_act',when(col('service_act').isin(['1.0','1']),lit(1)).otherwise(lit(0))).\\\n",
    "    withColumn('dealer_code',col('dealer_code').cast('int')).\\\n",
    "    withColumn('dealer_code',col('dealer_code').cast('String')).dropDuplicates()\n",
    "    \n",
    "    df1=zhudan.groupBy(['vin','repair_date']).agg(max('mile').alias('mile'),\n",
    "                                                   sum('repair_amount').alias('repair_amount'),\n",
    "                                                   sum('repair_amount_pre_discount').alias('repair_amount_pre_discount'),\n",
    "                                                   sum('labor_fee').alias('labor_fee'),\n",
    "                                                   sum('part_fee').alias('part_fee'),\n",
    "                                                   sum('claim').alias('claim'),\n",
    "                                                   sum('routine_maintenance').alias('routine_maintenance'),\n",
    "                                                   sum('accessory').alias('accessory'),\n",
    "                                                   sum('accident_repair').alias('accident_repair'),\n",
    "                                                   sum('general_repair').alias('general_repair'),\n",
    "                                                   sum('first_maintance').alias('first_maintance'),\n",
    "                                                   sum('service_act').alias('service_act'))\n",
    "\n",
    "    df1=df1.withColumn('claim',when(col('claim')>=1,lit(1)).otherwise(col('claim'))).\\\n",
    "    withColumn('routine_maintenance',when(col('routine_maintenance')>=1,lit(1)).otherwise(col('routine_maintenance'))).\\\n",
    "    withColumn('accessory',when(col('accessory')>=1,lit(1)).otherwise(col('accessory'))).\\\n",
    "    withColumn('accident_repair',when(col('accident_repair')>=1,lit(1)).otherwise(col('accident_repair'))).\\\n",
    "    withColumn('general_repair',when(col('general_repair')>=1,lit(1)).otherwise(col('general_repair'))).\\\n",
    "    withColumn('first_maintance',when(col('first_maintance')>=1,lit(1)).otherwise(col('first_maintance'))).\\\n",
    "    withColumn('service_act',when(col('service_act')>=1,lit(1)).otherwise(col('service_act'))).dropDuplicates()\n",
    "\n",
    "    print('加入常去维修站号')\n",
    "    belong_dealer=zhudan.select(['vin','dealer_code','repair_date']).dropDuplicates().groupBy(['vin','dealer_code']).agg(count('repair_date').alias('cnt'))\n",
    "    belong_dealer=belong_dealer.withColumn('cnt_id',row_number().over(Window.partitionBy('vin').orderBy(desc('cnt'))))\n",
    "    belong_dealer=belong_dealer.filter(col('cnt_id')==1).drop('cnt','cnt_id').withColumnRenamed('dealer_code','belong_dealer_code')\n",
    "\n",
    "    zhudandf=df1.join(belong_dealer,on='vin',how='left')\n",
    "    shoubao=zhudandf.filter(col('first_maintance')==1).withColumn('time_id',row_number().over(Window.partitionBy('vin').orderBy(asc('repair_date'))))\n",
    "    shoubao=shoubao.filter(col('time_id')==1).drop('time_id')\n",
    "    feishoubao=zhudandf.filter(col('first_maintance')!=1)\n",
    "    \n",
    "    zhudandf=shoubao.unionAll(feishoubao)\n",
    "    \n",
    "    return zhudandf,belong_dealer"
   ]
  },
  {
   "cell_type": "code",
   "execution_count": 6,
   "metadata": {},
   "outputs": [
    {
     "name": "stdout",
     "output_type": "stream",
     "text": [
      "加入常去维修站号\n"
     ]
    }
   ],
   "source": [
    "zhudandf,belong_dealer=load_zhudan()\n",
    "\n",
    "zhudandf=zhudandf.persist(pyspark.StorageLevel.MEMORY_AND_DISK_SER)\n",
    "zhudandf=broadcast(zhudandf)\n",
    "\n",
    "belong_dealer=belong_dealer.persist(pyspark.StorageLevel.MEMORY_AND_DISK_SER)\n",
    "belong_dealer=broadcast(belong_dealer)  "
   ]
  },
  {
   "cell_type": "markdown",
   "metadata": {},
   "source": [
    "#### <font color=red>2.读取customer info1"
   ]
  },
  {
   "cell_type": "code",
   "execution_count": 7,
   "metadata": {},
   "outputs": [],
   "source": [
    "def customer_info():\n",
    "    cust1=spark.sql('select * from clms.dws_customer_base_info')\n",
    "    cols=['vin', 'purchase_date', 'ies_name','gender_code', 'customer_type']\n",
    "    cust1=cust1.select(cols).withColumn('purchase_date',to_date(col('purchase_date'))).dropDuplicates()\n",
    "    cust1=cust1.withColumn('buy_rank',row_number().over(Window.partitionBy('vin').orderBy(asc('purchase_date'))))\n",
    "    cust1=cust1.filter(col('buy_rank')==1).drop('buy_rank')\n",
    "    cust1=cust1.withColumn('customer_type',when(col('customer_type')=='P',lit('个人')).\\\n",
    "                           when(col('customer_type')=='O',lit('公司')).otherwise(lit('个人')))\n",
    "    cust1=cust1.withColumn('gender_code',when(col('gender_code').isin(['1.0','1']),lit('1')).\\\n",
    "                           when(col('gender_code').isin(['2.0','2']),lit('2')).\\\n",
    "                           when(col('gender_code').isin(['0.0','0']),lit('0')).otherwise(lit('1')))\n",
    "    cust1=cust1.withColumn('ies_name',when(col('ies_name').rlike('SUPERB|昊锐|速派|Superb'),lit('速派')).\\\n",
    "                           when(col('ies_name').rlike('晶锐|Fabia|FABIA'),lit('晶锐')).\\\n",
    "                           when(col('ies_name').rlike('柯迪亚克|Kodiaq|KODIAQ'),lit('柯迪亚克')).\\\n",
    "                           when(col('ies_name').rlike('野帝|YETI|Yeti'),lit('野帝')).\\\n",
    "                           when(col('ies_name').rlike('明锐|Octavia|OCTAVIA'),lit('明锐')).\\\n",
    "                           when(col('ies_name').rlike('昕锐|Rapid|RAPID'),lit('昕锐')).\\\n",
    "                           when(col('ies_name').rlike('柯米克|Kamiq|KAMIQ'),lit('柯米克')).\\\n",
    "                           when(col('ies_name').rlike('柯珞克|柯洛克|Karoq|KAROQ'),lit('柯珞克')).\\\n",
    "                           when(col('ies_name').rlike('昕动'),lit('昕动')).otherwise(lit('其他')))\n",
    "    cust1=cust1.withColumn('family_name',when(col('ies_name').rlike('柯迪亚克|速派|野帝'),lit(3)).\\\n",
    "                           when(col('ies_name').rlike('明锐|柯米克|柯珞克'),lit(2)).\\\n",
    "                           when(col('ies_name').rlike('昕锐|昕动|晶锐'),lit(1)).otherwise(lit(0)))\n",
    "\n",
    "    return cust1"
   ]
  },
  {
   "cell_type": "code",
   "execution_count": 8,
   "metadata": {},
   "outputs": [
    {
     "name": "stdout",
     "output_type": "stream",
     "text": [
      "203717\n",
      "203717\n"
     ]
    }
   ],
   "source": [
    "cust1=customer_info()\n",
    "cust1=cust1.persist(pyspark.StorageLevel.MEMORY_AND_DISK_SER)\n",
    "cust1=broadcast(cust1)\n",
    "print(cust1.count())\n",
    "print(cust1.select('vin').dropDuplicates().count())"
   ]
  },
  {
   "cell_type": "markdown",
   "metadata": {},
   "source": [
    "#### <font color=red>3.读取customer info2"
   ]
  },
  {
   "cell_type": "code",
   "execution_count": 9,
   "metadata": {},
   "outputs": [],
   "source": [
    "def member_info():\n",
    "    cust2=spark.sql('select * from clms.dws_skmsm_base_info')\n",
    "    cols=['vin', 'member_type', 'member_status', 'whether_bind_wechat', 'start_date']\n",
    "    cust2=cust2.select(cols).dropDuplicates().\\\n",
    "    withColumn('start_date',from_unixtime(unix_timestamp(col('start_date'),'yyyy/M/d'),'yyyy-MM-dd')).\\\n",
    "    withColumn('member_id',row_number().over(Window.partitionBy('vin').orderBy(asc('start_date'))))\n",
    "    cust2=cust2.filter(col('member_id')==1).drop('member_id')\n",
    "    cust2=cust2.withColumn('today',to_date(lit(today))).\\\n",
    "    withColumn('member_age',datediff(col('today'),col('start_date'))).\\\n",
    "    withColumn('member_age',col('member_age')/365).\\\n",
    "    withColumn('member_age',ceil('member_age'))\n",
    "    cust2=cust2.drop('start_date','today')\n",
    "    return cust2"
   ]
  },
  {
   "cell_type": "code",
   "execution_count": 10,
   "metadata": {},
   "outputs": [
    {
     "name": "stdout",
     "output_type": "stream",
     "text": [
      "153750\n",
      "153750\n"
     ]
    }
   ],
   "source": [
    "cust2=member_info()\n",
    "\n",
    "cust2=cust2.persist(pyspark.StorageLevel.MEMORY_AND_DISK_SER)\n",
    "cust2=broadcast(cust2)\n",
    "\n",
    "print(cust2.count())\n",
    "print(cust2.select('vin').distinct().count())"
   ]
  },
  {
   "cell_type": "markdown",
   "metadata": {},
   "source": [
    "#### <font color=red>4.合并客户表"
   ]
  },
  {
   "cell_type": "code",
   "execution_count": 11,
   "metadata": {},
   "outputs": [],
   "source": [
    "def fill_vehicle(vehicle):\n",
    "    fill_dict={'ies_name':'其他', 'family_name':0,\n",
    "               'whether_bind_wechat':'否','gender_code':'1','customer_type':'个人',\n",
    "               'province':'未知','city':'未知','city_class':'未知',\n",
    "               'member_type':'非会员','member_status':'非会员','member_age':0}\n",
    "\n",
    "    vehicle=vehicle.withColumn('ies_name',when((col('ies_name').isNull())|(col('ies_name')==''),lit(fill_dict['ies_name'])).otherwise(col('ies_name'))).\\\n",
    "    withColumn('family_name',when((col('family_name').isNull())|(col('family_name')==''),lit(fill_dict['family_name'])).otherwise(col('family_name'))).\\\n",
    "    withColumn('whether_bind_wechat',when((col('whether_bind_wechat').isNull())|(col('whether_bind_wechat')==''),lit(fill_dict['whether_bind_wechat'])).otherwise(col('whether_bind_wechat'))).\\\n",
    "    withColumn('gender_code',when((col('gender_code').isNull())|(col('gender_code')==''),lit(fill_dict['gender_code'])).otherwise(col('gender_code'))).\\\n",
    "    withColumn('customer_type',when((col('customer_type').isNull())|(col('customer_type')==''),lit(fill_dict['customer_type'])).otherwise(col('customer_type'))).\\\n",
    "    withColumn('city',when((col('city').isNull())|(col('city')==''),lit(fill_dict['city'])).otherwise(col('city'))).\\\n",
    "    withColumn('province',when((col('province').isNull())|(col('province')==''),lit(fill_dict['province'])).otherwise(col('province'))).\\\n",
    "    withColumn('city_class',when((col('city_class').isNull())|(col('city_class')==''),lit(fill_dict['city_class'])).otherwise(col('city_class'))).\\\n",
    "    withColumn('member_type',when((col('member_type').isNull())|(col('member_type')==''),lit(fill_dict['member_type'])).otherwise(col('member_type'))).\\\n",
    "    withColumn('member_status',when((col('member_status').isNull())|(col('member_status')==''),lit(fill_dict['member_status'])).otherwise(col('member_status'))).\\\n",
    "    withColumn('member_age',when((col('member_age').isNull())|(col('member_age')==''),lit(fill_dict['member_age'])).otherwise(col('member_age')))\n",
    "    return vehicle"
   ]
  },
  {
   "cell_type": "code",
   "execution_count": 12,
   "metadata": {},
   "outputs": [],
   "source": [
    "#加入vin的6个特征\n",
    "def get_user(df1):\n",
    "    df1=df1.withColumn('car_body_type',substring('vin',4,1)).\\\n",
    "    withColumn('gearbox',substring('vin',5,1)).withColumn('crew_protection_system',substring('vin',6,1)).\\\n",
    "    withColumn('car_class',substring('vin',7,2)).withColumn('output_year',substring('vin',10,1)).\\\n",
    "    withColumn('assembly_factory',substring('vin',11,1))\n",
    "    \n",
    "    df1=df1.withColumn('user_tag',concat_ws(',',col('car_body_type'),col('gearbox'),col('crew_protection_system'),col('car_class'),col('output_year'),col('assembly_factory')))\n",
    "    return df1"
   ]
  },
  {
   "cell_type": "code",
   "execution_count": 13,
   "metadata": {},
   "outputs": [],
   "source": [
    "def merge_vehicle(cust1,cust2,belong_dealer):\n",
    "\n",
    "    vehicle=cust1.join(cust2,on=['vin'],how='outer').join(belong_dealer,on='vin',how='outer')\n",
    "\n",
    "    print('匹配常去经销商的省份\\城市\\城市级别信息')\n",
    "    dealer=spark.sql('select * from clms.dws_dealer_base_info')\n",
    "    cols=['province', 'city', 'dealer_invoice_code']\n",
    "    dealer=dealer.select(cols).dropDuplicates().withColumnRenamed('dealer_invoice_code','belong_dealer_code').\\\n",
    "    withColumn('city',regexp_replace('city','市','')).\\\n",
    "    withColumn('city',when(col('city').rlike('黔南'),lit('黔南')).\\\n",
    "                             when(col('city').rlike('恩施'),lit('恩施')).\\\n",
    "                             when(col('city').rlike('湘西'),lit('湘西')).\\\n",
    "                             when(col('city').rlike('黔西南'),lit('黔西南')).\\\n",
    "                             when(col('city').rlike('喀什'),lit('喀什')).\\\n",
    "                             when(col('city').rlike('阿克苏'),lit('阿克苏')).\\\n",
    "                             when(col('city').rlike('大理'),lit('大理')).\\\n",
    "                             when(col('city').rlike('黔东南'),lit('黔东南')).\\\n",
    "                             when(col('city').rlike('凉山'),lit('凉山')).\\\n",
    "                             when(col('city').rlike('楚雄'),lit('楚雄')).\\\n",
    "                             when(col('city').rlike('西双版纳'),lit('西双版纳')).\\\n",
    "                             when(col('city').rlike('文山'),lit('文山')).\\\n",
    "                                 when(col('city').rlike('海西'),lit('海西')).\\\n",
    "                             when(col('city').rlike('巴音郭楞'),lit('巴音郭楞')).\\\n",
    "                             when(col('city').rlike('德宏'),lit('德宏')).\\\n",
    "                             when(col('city').rlike('伊犁哈萨克'),lit('伊犁哈萨克')).\\\n",
    "                             when(col('city').rlike('昌吉'),lit('昌吉')).\\\n",
    "                             when(col('city').rlike('延边'),lit('延边')).\\\n",
    "                             when(col('city').rlike('阿拉善'),lit('阿拉善')).\\\n",
    "                             when(col('city').rlike('兴安盟'),lit('大兴安岭')).otherwise(col('city'))).\\\n",
    "    withColumn('belong_dealer_code',col('belong_dealer_code').cast('Int').cast('String'))\n",
    "\n",
    "    vehicle=vehicle.join(dealer,on='belong_dealer_code',how='left')\n",
    "\n",
    "    city=spark.sql('select * from clms.city_info')\n",
    "    cols=['city1','city_class']\n",
    "    city=city.select(cols).dropDuplicates()\n",
    "    city=city.withColumn('city1',when(col('city1').rlike('大兴安岭'),lit('大兴安岭')).\\\n",
    "                         when(col('city1').rlike('延边'),lit('延边')).\\\n",
    "                         when(col('city1').rlike('大理'),lit('大理')).\\\n",
    "                         when(col('city1').rlike('文山'),lit('文山')).\\\n",
    "                         when(col('city1').rlike('德宏'),lit('德宏')).\\\n",
    "                         when(col('city1').rlike('楚雄'),lit('楚雄')).\\\n",
    "                         when(col('city1').rlike('红河'),lit('红河')).\\\n",
    "                         when(col('city1').rlike('西双版纳'),lit('西双版纳')).\\\n",
    "                         when(col('city1').rlike('喀什'),lit('喀什')).\\\n",
    "                         when(col('city1').rlike('巴音郭楞'),lit('巴音郭楞')).\\\n",
    "                         when(col('city1').rlike('昌吉'),lit('昌吉')).\\\n",
    "                         when(col('city1').rlike('阿克苏'),lit('阿克苏')).\\\n",
    "                         when(col('city1').rlike('伊犁哈萨克'),lit('伊犁哈萨克')).\\\n",
    "                         when(col('city1').rlike('黔西南'),lit('黔西南')).\\\n",
    "                         when(col('city1').rlike('黔东南'),lit('黔东南')).\\\n",
    "                         when(col('city1').rlike('黔南'),lit('黔南')).\\\n",
    "                         when(col('city1').rlike('凉山'),lit('凉山')).\\\n",
    "                         when(col('city1').rlike('恩施'),lit('恩施')).\\\n",
    "                         when(col('city1').rlike('湘西'),lit('湘西')).\\\n",
    "                         when(col('city1').rlike('海西'),lit('海西')).\\\n",
    "                         when(col('city1').rlike('阿拉善'),lit('阿拉善')).otherwise(col('city1'))).\\\n",
    "    withColumnRenamed('city1','city').dropDuplicates()\n",
    "\n",
    "    vehicle=vehicle.join(city,on='city',how='left')\n",
    "    vehicle=fill_vehicle(vehicle)\n",
    "    vehicle=get_user(vehicle)\n",
    "    return vehicle"
   ]
  },
  {
   "cell_type": "code",
   "execution_count": 14,
   "metadata": {},
   "outputs": [
    {
     "name": "stdout",
     "output_type": "stream",
     "text": [
      "匹配常去经销商的省份\\城市\\城市级别信息\n",
      "206870\n",
      "206870\n",
      "+----+------------------+-----------------+-------------+--------+-----------+-------------+-----------+-----------+-------------+-------------------+----------+--------+----------+-------------+-------+----------------------+---------+-----------+----------------+------------+\n",
      "|city|belong_dealer_code|              vin|purchase_date|ies_name|gender_code|customer_type|family_name|member_type|member_status|whether_bind_wechat|member_age|province|city_class|car_body_type|gearbox|crew_protection_system|car_class|output_year|assembly_factory|    user_tag|\n",
      "+----+------------------+-----------------+-------------+--------+-----------+-------------+-----------+-----------+-------------+-------------------+----------+--------+----------+-------------+-------+----------------------+---------+-----------+----------------+------------+\n",
      "|  南京|          74309241|LSV2C60Z9HN054328|   2018-06-22|    柯迪亚克|          1|           个人|          3|        非会员|          非会员|                  否|         0|      江苏|    二线发达城市|            2|      C|                     6|       0Z|          H|               N|2,C,6,0Z,H,N|\n",
      "|  南京|          74309241|LSV2D60Z0JN044533|   2019-04-30|    柯迪亚克|          1|           个人|          3|        钻石卡|           有效|                  是|         2|      江苏|    二线发达城市|            2|      D|                     6|       0Z|          J|               N|2,D,6,0Z,J,N|\n",
      "|  南京|          74309241|LSV2D60Z3JN053789|   2019-06-25|    柯迪亚克|          1|           个人|          3|        钻石卡|           有效|                  是|         5|      江苏|    二线发达城市|            2|      D|                     6|       0Z|          J|               N|2,D,6,0Z,J,N|\n",
      "|  南京|          74309241|LSV2D60Z4JN053848|   2019-06-25|    柯迪亚克|          1|           个人|          3|        非会员|          非会员|                  否|         0|      江苏|    二线发达城市|            2|      D|                     6|       0Z|          J|               N|2,D,6,0Z,J,N|\n",
      "|  南京|          74309241|LSVAA25E9EN027898|   2014-11-18|      明锐|          1|           个人|          2|        非会员|          非会员|                  否|         0|      江苏|    二线发达城市|            A|      A|                     2|       5E|          E|               N|A,A,2,5E,E,N|\n",
      "+----+------------------+-----------------+-------------+--------+-----------+-------------+-----------+-----------+-------------+-------------------+----------+--------+----------+-------------+-------+----------------------+---------+-----------+----------------+------------+\n",
      "only showing top 5 rows\n",
      "\n",
      "None\n"
     ]
    }
   ],
   "source": [
    "vehicle=merge_vehicle(cust1,cust2,belong_dealer)\n",
    "\n",
    "vehicle=vehicle.persist(pyspark.StorageLevel.MEMORY_AND_DISK_SER)\n",
    "vehicle=broadcast(vehicle)\n",
    "\n",
    "print(vehicle.count())\n",
    "print(vehicle.select('vin').distinct().count())\n",
    "print(vehicle.show(5))"
   ]
  },
  {
   "cell_type": "code",
   "execution_count": 15,
   "metadata": {},
   "outputs": [
    {
     "name": "stdout",
     "output_type": "stream",
     "text": [
      "['belong_dealer_code', 'purchase_date']\n"
     ]
    }
   ],
   "source": [
    "mis1=get_miss_cols_org(vehicle)\n",
    "print(mis1)"
   ]
  },
  {
   "cell_type": "code",
   "execution_count": 16,
   "metadata": {},
   "outputs": [
    {
     "name": "stdout",
     "output_type": "stream",
     "text": [
      "[]\n",
      "[]\n"
     ]
    }
   ],
   "source": [
    "cols=vehicle.columns\n",
    "tongyi_cols=['vin', 'purchase_date', 'ies_name', 'gender_code', 'customer_type', 'family_name', 'member_type',\n",
    "             'member_status','member_age', 'whether_bind_wechat', 'province','city', 'belong_dealer_code', 'city_class',\n",
    "             'car_body_type', 'gearbox', 'crew_protection_system', 'car_class', 'output_year', 'assembly_factory', 'user_tag']\n",
    "same1=[x for x in cols if x not in tongyi_cols]\n",
    "print(same1)\n",
    "same2=[x for x in tongyi_cols if x not in cols]\n",
    "print(same2)"
   ]
  },
  {
   "cell_type": "code",
   "execution_count": 17,
   "metadata": {},
   "outputs": [
    {
     "name": "stdout",
     "output_type": "stream",
     "text": [
      "206870\n",
      "206870\n"
     ]
    }
   ],
   "source": [
    "vehicle=vehicle.select(tongyi_cols).dropDuplicates()\n",
    "print(vehicle.count())\n",
    "print(vehicle.select('vin').dropDuplicates().count())"
   ]
  },
  {
   "cell_type": "code",
   "execution_count": 18,
   "metadata": {},
   "outputs": [
    {
     "data": {
      "text/plain": [
       "DataFrame[]"
      ]
     },
     "execution_count": 18,
     "metadata": {},
     "output_type": "execute_result"
    }
   ],
   "source": [
    "vehicle.registerTempTable('vehicle_reg')\n",
    "spark.sql('drop table if exists clms.skd_vehicle')\n",
    "spark.sql('create table if not exists clms.skd_vehicle (vin string,purchase_date date,ies_name string,\\\n",
    "gender_code string,customer_type string,family_name int,member_type string,member_status string,member_age int,\\\n",
    "whether_bind_wechat string,province string,city string,belong_dealer_code string,city_class string,\\\n",
    "car_body_type string,gearbox string,crew_protection_system string,car_class string,output_year string,\\\n",
    "assembly_factory string,user_tag string)')\n",
    "spark.sql('insert overwrite table clms.skd_vehicle select * from vehicle_reg')"
   ]
  },
  {
   "cell_type": "code",
   "execution_count": 19,
   "metadata": {},
   "outputs": [
    {
     "name": "stdout",
     "output_type": "stream",
     "text": [
      "检查字段\n",
      "ies_name\n",
      "['晶锐', '野帝', '柯米克', '昕锐', '明锐', '柯珞克', '速派', '其他', '柯迪亚克', '昕动']\n",
      "------------------------------\n",
      "gender_code\n",
      "['0', '1', '2']\n",
      "------------------------------\n",
      "customer_type\n",
      "['公司', '个人']\n",
      "------------------------------\n",
      "family_name\n",
      "[1, 3, 2, 0]\n",
      "------------------------------\n",
      "member_type\n",
      "['非会员', '钻石卡', '金卡', '绿卡']\n",
      "------------------------------\n",
      "member_status\n",
      "['非会员', '冻结', '有效', '注销']\n",
      "------------------------------\n",
      "member_age\n",
      "[0, 7, 6, 9, 5, 1, 10, 3, 12, 8, 11, 2, 4]\n",
      "------------------------------\n",
      "whether_bind_wechat\n",
      "['否', '是']\n",
      "------------------------------\n",
      "province\n",
      "['未知', '河南', '江苏', '山东', '上海', '浙江']\n",
      "------------------------------\n",
      "city\n",
      "['南京', '无锡', '未知', '苏州', '杭州', '嘉兴', '德州', '郑州', '上海']\n",
      "------------------------------\n",
      "belong_dealer_code\n",
      "['74308081', '74309021', '74309241', '74309251', None, '74310031', '74310291', '74314141', '74308161', '74319141']\n",
      "------------------------------\n",
      "city_class\n",
      "['二线城市', '未知', '四线城市', '一线城市', '二线发达城市']\n",
      "------------------------------\n",
      "car_body_type\n",
      "['K', '3', 'F', '8', 'Q', '0', 'E', 'T', 'B', '5', 'Y', 'L', 'M', 'U', 'V', '6', 'D', 'C', 'J', 'Z', 'A', 'N', 'X', 'W', 'S', 'R', 'G', '1', 'P', '4', '2', 'H']\n",
      "------------------------------\n",
      "gearbox\n",
      "['K', '7', '3', 'F', '8', '0', 'E', 'T', 'B', '5', 'Y', 'M', 'L', 'U', 'V', '6', 'D', 'C', 'J', 'Z', 'A', 'N', 'X', 'W', 'S', 'R', 'G', '9', '1', 'I', 'P', '4', '2', 'H']\n",
      "------------------------------\n",
      "crew_protection_system\n",
      "['K', '7', '3', 'F', '8', '0', 'E', '5', 'B', 'U', '6', 'D', 'C', 'J', 'A', 'S', 'R', 'G', '9', '1', 'P', '4', '2', 'H']\n",
      "------------------------------\n",
      "car_class\n",
      "['0G', '51', '6Y', '2Z', '15', '54', '11', '69', '73', '64', '8P', '4X', '4J', 'DC', '0F', 'I5', '1C', '1Z', '4B', 'JC', '85', 'A2', '52', 'U4', 'F6', '1G', '98', 'E7', 'NP', 'B2', 'ZX', '43', '3U', '31', 'GH', '1J', 'FZ', '18', 'K9', '0Z', 'K6', '61', '4L', '00', '17', '26', '0X', '9F', 'BM', 'F5', 'DL', 'NE', '09', '7N', '46', 'BR', '1K', '78', '8H', 'FB', '05', '68', 'H0', 'J2', 'ME', 'MB', 'EB', '4E', '41', '6D', '0T', '55', '3C', '8K', 'G6', '2U', '08', '38', 'AE', '25', '4R', 'FR', '0L', '0R', 'CC', 'HJ', '0E', '2P', '1U', 'A4', '4F', '58', 'DJ', '8E', '3T', '6R', '33', 'E0', 'AB', 'E3', 'B5', '4Z', '5X', 'G4', '56', 'B0', 'C2', '9J', '65', '0N', '39', '5L', 'AN', '12', '83', '2C', '13', 'DF', '3J', '21', 'Y9', 'NG', '5G', '1F', 'CF', '5E', 'G5', 'IS', 'AF', 'RT', 'HB', '5N', '45', 'L2', '1T', 'DP']\n",
      "------------------------------\n",
      "output_year\n",
      "['K', '7', '3', 'F', '8', '0', 'E', 'B', '5', 'Y', 'L', 'U', '6', 'D', 'C', 'J', 'A', 'N', 'X', 'S', 'G', '9', '1', 'P', '4', '2', 'H']\n",
      "------------------------------\n",
      "assembly_factory\n",
      "['3', 'F', '8', '0', 'E', '5', 'B', 'Y', 'L', 'V', '6', 'D', 'C', 'J', 'Z', 'A', 'N', 'X', 'S', 'G', '9', '1', '4', '2', 'H']\n",
      "------------------------------\n",
      "user_tag\n",
      "['L,B,7,5L,D,6', 'A,E,4,NG,E,N', 'F,F,6,0G,F,N', 'C,K,6,3T,C,2', 'N,X,2,1Z,B,2', '5,H,6,0Z,J,N', 'A,D,2,18,A,2', 'F,E,4,55,B,2', 'P,U,2,9J,A,2', 'Z,F,4,5L,E,2', 'M,D,4,1T,6,2', 'T,W,1,33,8,N', 'A,G,0,33,1,2', 'A,C,F,B0,1,B', '2,B,2,1K,C,3', 'D,7,8,A4,G,N', 'N,U,4,NG,J,N', 'Z,J,2,5L,G,2', 'N,U,6,5E,K,N', 'C,J,6,A4,C,N', 'A,D,6,5E,D,N', 'N,F,4,5E,H,N', '2,E,6,0Z,J,N', 'N,8,2,1Z,D,2', 'A,R,6,NG,E,N', 'A,F,2,1Z,8,2', 'N,Y,4,1Z,D,2', 'N,T,6,1Z,A,2', 'A,D,4,NG,D,N', 'C,F,7,NP,F,N', 'N,B,4,54,2,3', 'A,E,4,18,B,2', 'M,4,A,DP,8,1', 'C,E,4,3T,B,2', 'N,1,2,1Z,C,2', 'D,1,2,3T,E,N', '2,A,2,1K,D,4', 'D,2,6,3T,F,N', 'D,E,4,3T,D,N', 'N,R,4,9J,B,2', 'C,H,6,A4,D,N', 'U,B,6,0N,J,N', 'C,E,4,3T,C,2', 'C,C,6,3T,8,2', 'Y,B,6,5L,D,2', 'L,G,4,1T,6,2', 'N,P,2,1Z,A,2', 'A,B,4,BR,E,N', 'C,L,4,3T,D,2', 'N,P,6,1Z,C,2', 'X,J,2,5L,H,2', 'Z,E,4,5L,E,2', 'N,X,4,5E,L,N', '2,1,5,4E,6,9', 'W,C,1,11,0,D', 'F,A,4,9J,4,2', 'E,8,4,8H,F,5', 'A,E,4,5E,G,N', '2,D,6,0Z,J,N', 'D,K,2,NP,K,N', 'U,C,6,0X,H,N', 'D,S,6,3T,E,N', 'F,R,4,BR,F,N', 'N,1,2,1Z,D,2', 'N,2,4,1Z,F,2', 'U,D,8,4X,B,E', 'C,G,6,BM,H,N', 'N,2,4,1Z,D,2', 'N,R,4,5E,J,N', 'N,X,4,5E,K,N', 'A,E,4,5E,H,N', 'C,J,6,3T,C,2', 'U,H,2,5L,F,2', 'N,D,2,18,D,N', '8,7,B,G5,8,4', 'N,W,4,1Z,A,2', 'A,A,4,5E,E,N', 'C,E,8,NP,G,N', 'C,B,8,NP,G,N', 'Y,K,6,5L,E,2', 'G,U,2,0G,K,N', 'A,0,4,NG,K,N', 'N,3,4,1Z,C,2', 'G,L,4,0G,H,N', 'A,G,2,18,A,2', 'C,E,2,BM,F,N', 'A,B,1,NG,E,N', 'F,D,6,6R,B,2', 'A,F,6,NG,E,N', 'F,D,A,B2,N,2', 'A,G,4,17,7,2', 'G,J,4,55,B,2', 'U,C,6,5G,D,H', 'G,M,2,55,B,2', 'C,B,7,NP,F,N', 'A,K,2,1Z,8,2', 'H,B,F,AF,7,F', 'N,2,2,1Z,C,2', 'F,B,4,55,A,2', 'N,N,4,5E,H,N', 'U,C,6,5N,B,2', 'G,M,4,0G,H,N', 'A,E,6,NG,D,N', 'A,C,6,NG,E,N', 'N,L,4,9J,7,2', 'U,K,6,5L,F,2', 'Y,H,6,5L,E,2', 'N,T,4,5E,K,N', 'N,S,2,1Z,A,2', 'Y,A,2,5L,E,2', 'U,B,4,0X,J,N', 'G,V,2,55,E,2', 'N,Z,4,BR,G,N', 'D,N,4,9F,6,2', 'B,P,4,5E,H,N', 'C,B,6,3T,9,2', 'N,2,4,1Z,G,2', 'A,D,4,1Z,8,2', 'A,N,6,NG,E,N', 'D,H,2,3T,E,N', 'A,C,6,NG,C,N', 'A,G,2,1Z,7,2', 'X,J,4,5L,F,2', 'X,J,4,5L,E,2', 'D,L,4,3T,D,2', 'N,2,B,21,2,A', '0,Z,C,F6,4,1', '5,6,9,52,G,3', 'D,M,2,3T,E,N', 'F,A,6,0G,E,N', 'T,V,1,33,8,2', 'N,A,2,1Z,E,2', 'C,C,4,9F,5,2', 'X,N,6,5N,E,2', 'W,S,2,9J,C,2', 'C,K,2,3T,C,2', 'A,0,4,NG,J,N', 'C,E,2,3T,C,2', 'N,8,4,1Z,D,2', 'U,G,6,0Z,K,N', 'N,P,2,1Z,E,2', 'U,C,S,DJ,A,S', '5,8,F,25,5,8', 'N,D,6,18,C,2', 'R,R,2,1T,C,2', 'A,B,4,NG,E,N', 'C,B,4,3T,9,2', 'G,S,4,9J,9,2', 'A,F,4,18,9,2', 'C,H,2,A4,C,N', 'A,L,2,1Z,7,2', 'N,K,4,9J,6,2', 'G,2,2,E0,A,Y', 'N,3,4,NG,K,N', 'F,C,4,55,A,2', 'A,F,6,NG,D,N', 'T,9,1,33,C,N', 'G,V,4,55,C,2', 'N,P,4,5E,H,N', 'A,F,4,5E,J,N', 'A,H,2,1Z,7,2', 'D,S,6,3T,D,2', 'C,F,2,3T,C,2', 'N,X,6,1Z,B,2', 'B,C,G,C2,1,C', 'W,L,2,18,G,2', 'N,X,4,12,B,2', 'H,R,R,U4,0,L', 'F,B,4,55,9,2', 'N,1,3,L2,A,0', 'C,G,4,9F,6,2', 'Y,B,0,0L,E,2', 'C,B,2,3T,B,2', 'U,K,6,5L,E,2', 'Y,J,2,5L,G,2', 'N,U,4,NG,H,N', 'G,V,4,55,E,2', 'A,R,6,NG,F,N', 'N,2,2,1Z,D,2', 'A,H,2,5E,F,N', 'F,H,4,0G,E,N', 'U,E,4,5L,E,2', '3,A,2,8K,C,3', 'N,F,4,1Z,2,0', '8,9,J,G6,7,4', 'A,N,4,1Z,9,2', 'F,A,4,55,A,2', 'C,A,2,3T,C,2', 'X,F,6,5L,E,2', 'H,1,2,E0,B,Y', 'C,D,4,3T,B,2', 'F,D,2,55,8,2', 'N,V,2,18,D,2', 'C,B,4,9F,1,2', 'N,5,4,B0,3,A', 'G,U,4,9J,A,2', 'A,L,4,1Z,7,2', '5,6,4,64,6,5', 'N,5,6,1Z,C,2', '2,E,8,0Z,K,N', 'A,D,2,NG,E,N', '4,5,F,IS,4,4', 'F,C,F,ME,B,F', 'L,G,4,1T,7,2', 'Y,E,2,51,E,2', 'C,B,2,NP,F,N', 'Y,J,6,5L,G,2', 'G,R,4,55,D,2', 'C,E,7,NP,F,N', 'J,N,1,33,7,2', 'C,D,2,3T,C,2', 'N,5,2,18,D,N', 'A,R,2,NG,F,N', 'C,E,2,NP,H,N', 'N,F,4,1Z,E,2', 'R,G,4,1T,8,2', 'D,K,3,K9,D,B', 'W,U,2,9J,C,2', '5,E,6,0Z,K,N', 'F,D,2,0F,G,2', 'N,2,2,17,D,2', 'A,J,4,18,A,2', 'T,9,1,33,D,N', 'A,H,2,5E,H,N', 'N,W,2,1Z,A,2', 'F,B,4,9J,3,2', 'N,F,6,1Z,A,2', 'P,P,2,9J,8,2', 'U,M,2,5N,D,2', 'G,J,4,55,E,2', 'G,K,4,55,E,2', 'F,B,2,55,9,2', 'F,H,4,55,B,2', 'A,T,4,NG,H,N', 'N,S,4,1Z,B,2', 'C,B,4,3T,A,2', 'N,W,6,1Z,A,2', '2,E,6,0Z,K,N', 'B,R,4,5E,K,N', 'N,V,4,5E,K,N', 'X,J,6,5L,E,2', 'B,U,0,33,7,2', 'E,T,6,9F,9,2', 'R,X,4,1T,F,2', 'F,F,4,55,B,2', 'A,5,4,NG,K,N', 'Y,J,6,5L,F,2', 'A,T,2,NG,0,N', 'C,J,6,3T,D,2', 'D,M,4,3T,D,N', 'A,B,6,NG,D,N', 'A,T,2,NG,H,N', 'C,C,2,NP,K,N', '8,4,5,GH,8,8', 'R,Y,6,1T,E,2', 'A,F,2,31,4,5', 'A,P,2,NG,F,N', '2,E,8,0Z,J,N', 'D,F,4,3T,D,N', 'D,E,2,3T,F,N', 'C,K,2,NP,J,N', 'G,S,2,9J,A,2', 'A,C,4,BR,D,N', 'H,1,5,43,5,3', 'F,H,2,0G,G,N', 'A,F,2,5E,E,N', 'F,D,4,0F,G,2', 'D,J,2,3T,E,N', 'N,V,4,18,D,2', 'N,F,8,2C,C,3', 'D,N,4,9F,8,2', 'G,R,4,0G,K,N', 'A,D,4,1Z,7,2', 'G,U,4,55,D,2', 'N,7,4,1Z,D,2', 'A,T,2,NG,G,N', 'B,E,4,1U,4,2', 'U,N,6,5N,C,2', 'G,5,3,Y9,H,0', 'U,G,2,5L,E,2', 'A,C,6,NG,D,N', 'N,C,2,18,D,2', 'A,H,2,NG,E,N', 'B,T,6,3U,3,9', 'A,F,2,5E,G,N', 'A,D,2,5E,E,N', 'A,L,4,1Z,8,2', 'F,H,2,0G,H,N', 'F,D,4,55,A,2', 'N,R,2,1Z,E,2', 'F,G,4,55,A,2', 'A,F,4,18,A,2', 'Z,J,2,5L,F,2', 'D,W,6,3T,E,N', 'C,P,1,68,B,2', 'C,1,6,CF,E,0', 'N,F,4,1Z,B,2', 'A,T,4,NG,F,N', 'A,B,6,NG,E,N', 'D,F,4,3T,E,N', 'A,E,2,5E,E,N', 'F,D,4,0G,E,N', 'N,8,4,1Z,C,2', 'N,4,2,1Z,D,2', 'N,E,4,1Z,0,2', 'A,D,6,5E,E,N', 'N,S,2,9J,A,2', 'T,N,1,33,8,2', 'U,L,2,5N,C,2', 'C,L,2,NP,K,N', 'G,P,4,55,E,2', '5,E,6,0N,K,N', 'A,A,4,NG,E,N', 'R,C,8,0R,H,N', 'F,K,4,0G,F,N', 'C,B,6,A4,D,N', 'F,V,6,18,D,2', 'D,Y,6,3T,E,N', 'U,D,6,0Z,K,N', 'N,9,2,1Z,D,2', 'J,N,1,33,6,2', 'D,L,8,NP,K,N', 'F,B,2,55,8,2', 'D,1,2,9F,8,2', 'N,U,2,9J,A,2', '3,A,2,3C,C,3', 'Z,A,1,1G,A,3', '5,G,6,0Z,K,N', 'F,D,2,55,9,2', 'F,E,4,0F,J,2', 'A,H,4,1Z,A,2', 'N,S,2,1Z,C,2', 'F,B,4,0F,H,2', 'N,V,4,18,E,2', 'F,F,2,6R,D,N', 'N,2,4,1Z,E,2', 'B,N,6,5E,J,N', 'N,N,6,5E,J,N', 'C,R,7,NP,K,N', '3,A,1,1K,8,3', '2,C,6,0Z,H,N', 'C,B,2,NP,H,N', 'N,F,4,5E,J,N', 'A,P,2,NG,E,N', 'N,F,4,1Z,D,2', 'B,R,4,5E,J,N', 'G,F,2,0G,H,N', 'N,P,2,1Z,C,2', '5,G,6,0Z,J,N', 'D,J,2,3T,D,N', 'G,V,2,55,D,2', 'A,Y,C,8P,D,A', 'F,A,4,9J,3,2', 'N,W,2,18,D,2', 'L,F,5,HB,4,5', 'N,Z,4,NG,J,N', 'C,C,6,3T,C,2', 'F,F,2,0G,G,N', 'A,F,4,5E,G,N', 'A,H,4,18,B,2', '2,A,1,1G,8,3', 'N,U,4,18,D,2', 'G,N,4,55,C,2', 'C,E,2,NP,G,N', 'B,N,2,5E,H,N', 'N,K,4,9J,7,2', 'N,T,6,1Z,D,2', '2,A,1,15,C,3', 'A,A,2,5E,E,N', 'F,K,4,0G,G,N', 'G,Z,2,55,E,2', 'U,D,4,0N,K,N', 'B,P,4,5E,J,N', 'R,P,4,1T,B,2', 'C,C,6,A4,C,N', 'A,B,2,5E,E,N', 'Y,D,2,5L,D,2', 'D,M,2,3T,D,2', 'G,5,4,6R,H,2', 'C,B,2,NP,G,N', 'A,N,4,1Z,7,2', 'A,B,4,18,A,2', 'G,P,2,55,B,2', 'F,B,6,18,F,2', 'C,B,8,NP,F,N', 'U,C,6,0Z,H,N', 'U,C,6,0N,K,N', 'X,F,4,5L,E,2', 'N,V,4,5E,J,N', 'F,F,4,0G,E,N', 'X,M,6,5N,D,2', 'W,L,2,18,G,N', 'N,1,4,1Z,G,2', 'N,R,6,1Z,A,2', 'A,E,4,5E,F,N', 'A,C,2,NG,D,N', '2,E,8,0Z,H,N', 'C,D,4,9F,4,2', 'Y,A,2,5L,D,2', 'A,M,4,1Z,A,2', 'A,B,2,NG,E,N', 'C,P,8,NP,K,N', 'Q,W,E,RT,U,A', 'X,J,6,5L,F,2', 'N,D,2,18,D,2', 'F,H,4,0G,H,N', 'N,Y,4,NG,J,N', 'B,Z,2,5E,K,N', 'A,F,2,18,9,2', 'Y,G,2,5L,E,2', 'N,1,4,1Z,C,2', 'A,1,4,NG,J,N', 'C,A,2,3T,B,2', 'A,B,4,18,8,2', 'U,B,2,5L,D,2', 'F,A,2,0G,E,N', 'N,9,4,1Z,C,2', '0,2,5,45,G,6', 'C,J,4,1U,4,2', '4,5,6,78,0,1', 'U,D,6,0Z,J,N', '5,G,8,69,D,6', 'A,B,4,18,9,2', 'C,T,6,A4,E,N', 'C,E,4,3T,D,2', 'C,L,8,NP,K,N', 'F,C,2,55,8,2', 'U,A,2,5L,E,2', 'A,H,4,17,S,2', 'Y,L,2,5L,H,2', 'N,D,4,1Z,E,2', 'A,T,6,NG,E,N', 'H,K,2,1Z,8,2', 'N,V,4,1Z,B,2', '2,A,1,1K,A,3', 'A,F,0,33,3,2', 'D,6,2,A4,J,N', 'F,X,6,18,D,2', 'A,R,4,NG,H,N', 'C,C,2,3T,9,2', 'F,C,6,0G,E,N', 'U,B,4,5L,D,2', 'R,D,2,1T,8,2', 'G,L,4,0G,J,N', 'F,D,6,0F,F,2', 'D,F,4,3T,F,N', 'U,J,6,5N,B,2', 'H,H,1,33,3,2', 'C,P,2,NP,J,N', 'D,T,4,3T,E,N', 'A,D,4,NG,E,N', 'D,S,2,NP,K,N', 'X,N,6,5N,D,2', '2,A,2,15,9,3', '2,5,4,25,8,5', 'F,V,2,18,F,2', 'G,0,2,6R,E,2', 'N,P,4,1Z,C,2', 'F,H,4,0F,J,2', 'D,L,2,NP,K,N', 'D,E,2,3T,D,N', 'C,L,4,3T,C,2', 'R,C,8,0R,G,N', 'C,B,2,3T,C,2', 'A,L,2,NG,E,N', 'V,N,1,41,3,D', 'F,G,2,0G,G,N', '5,4,F,61,6,2', '2,B,2,5G,F,5', 'P,X,6,18,D,2', 'N,T,6,1Z,C,2', 'F,G,4,0G,F,N', 'U,C,4,0X,J,N', 'Z,J,4,5L,G,2', 'W,R,4,9J,B,2', 'D,M,4,3T,E,N', 'F,E,3,0G,E,N', 'N,2,2,12,D,2', 'D,P,4,3T,F,N', 'H,D,A,FB,A,Y', 'G,P,4,0G,J,N', 'D,P,4,9F,7,2', 'B,T,2,5E,K,N', 'A,H,2,1Z,A,2', 'C,D,6,A4,B,N', 'F,D,4,0F,H,2', 'U,E,6,0N,K,N', 'N,N,4,5E,J,N', 'B,N,6,5E,H,N', 'N,W,4,12,A,2', 'C,D,2,BM,G,N', 'N,Y,2,1Z,A,2', 'U,E,6,0X,L,N', 'A,B,2,1Z,7,2', 'N,R,4,1Z,E,2', 'N,Z,2,18,E,2', 'N,Y,4,1Z,B,2', 'B,R,2,5E,J,N', 'U,G,2,5N,C,2', 'G,P,4,0G,H,N', 'A,B,4,BR,D,N', 'F,F,4,9J,5,2', 'D,S,8,NP,K,N', 'A,A,2,NG,D,N', 'D,E,2,3T,D,2', 'X,Z,6,5N,F,2', 'C,F,8,NP,H,N', 'P,P,2,55,E,2', 'C,D,8,NP,J,N', 'C,A,4,3T,A,2', 'F,G,2,0G,E,N', '5,D,6,0Z,K,N', 'A,D,4,1Z,9,2', 'U,E,4,0N,K,N', 'D,M,4,3T,D,2', 'F,B,2,6R,B,2', 'U,B,6,5N,B,2', 'A,T,4,NG,G,N', 'D,H,2,3T,D,2', 'N,R,4,5E,K,N', 'P,0,2,6R,E,2', 'D,M,2,3T,D,N', 'B,U,2,5E,J,N', 'S,R,6,1T,C,2', 'N,X,4,NG,J,N', 'C,E,2,3T,D,2', 'D,M,4,9F,6,2', 'D,U,2,3T,E,N', 'U,G,4,0Z,K,N', 'N,G,4,9J,7,2', 'N,4,2,1Z,E,2', 'D,L,4,9F,7,2', 'G,R,4,9J,5,6', '5,E,4,0N,L,N', 'U,C,6,0X,J,N', 'G,J,4,55,C,2', 'A,E,2,5E,H,N', 'F,D,4,0F,F,2', 'F,E,4,0F,H,2', 'A,R,4,NG,E,N', 'F,B,2,0G,E,N', 'Y,J,6,5L,E,2', 'D,J,7,NP,K,N', '5,F,6,0N,K,N', 'F,A,2,55,8,2', 'N,9,2,1Z,E,2', 'N,R,4,12,A,2', 'F,D,F,AB,B,N', 'N,J,4,9J,7,2', 'U,F,2,5N,B,2', 'F,H,4,0F,H,2', 'A,R,4,NG,F,N', 'C,C,6,3T,9,2', 'F,G,2,0G,F,N', 'G,P,4,55,D,2', 'C,A,2,NP,H,N', 'F,G,6,0G,E,N', 'A,D,4,5E,E,N', 'L,C,4,1T,7,2', 'A,A,4,1Z,8,2', 'A,E,4,1Z,A,2', 'G,S,4,55,D,2', 'Y,K,3,DC,B,S', 'U,C,6,0T,H,2', 'A,K,2,18,B,2', 'A,H,2,5E,E,N', 'N,S,6,5E,K,N', 'F,B,2,6R,E,2', 'G,U,4,55,C,2', 'G,R,6,18,J,2', '2,A,2,15,D,3', 'F,B,4,9J,5,2', 'N,B,2,1Z,D,2', 'A,K,2,NG,E,N', 'A,M,2,18,C,2', 'A,H,2,18,A,2', 'C,B,6,3J,B,2', 'F,A,4,5X,4,2', 'C,H,4,9F,4,2', 'U,H,2,5L,E,2', 'B,P,2,5E,J,N', 'C,E,2,3T,B,2', '5,E,6,0Z,J,N', 'A,C,4,1Z,7,2', 'N,2,4,12,D,2', 'D,1,6,3T,E,N', 'N,S,4,5E,J,N', 'Y,H,2,5L,F,2', 'A,U,0,33,7,2', 'F,Z,6,18,D,2', 'N,R,4,NG,J,N', 'F,C,2,55,9,2', 'P,M,2,55,B,2', 'G,R,4,0G,J,N', 'A,H,6,5E,F,N', '3,A,2,3C,A,3', 'A,T,4,NG,E,N', 'N,7,2,1Z,E,2', 'C,F,4,3T,D,2', '5,E,8,0Z,K,N', 'D,0,2,3T,E,N', 'F,D,A,AB,D,N', 'F,D,F,MB,9,F', 'A,F,4,5E,H,N', 'N,Y,2,1Z,B,2', 'C,J,2,3T,C,2', 'N,U,6,5E,J,N', 'C,C,2,3T,A,2', 'Y,K,2,5L,E,2', 'S,Y,6,1T,E,2', 'A,H,1,73,2,3', 'R,P,4,1T,C,2', 'A,S,A,NG,2,1', 'F,K,2,6R,D,2', 'U,A,4,0N,K,N', 'X,H,4,5L,E,2', 'A,1,2,39,D,1', 'L,C,4,1T,6,2', 'G,U,2,9J,A,2', 'C,Z,6,A4,E,N', 'C,C,2,NP,J,N', 'F,C,4,0G,E,N', 'G,P,2,9J,7,2', 'N,8,2,1Z,C,2', '3,A,2,1K,9,3', 'N,C,2,18,D,N', '3,A,2,3C,E,3', 'A,U,0,33,6,2', 'C,B,2,A4,B,N', 'A,N,2,12,9,2', 'G,0,2,6R,F,2', 'C,B,6,3T,C,2', 'G,V,4,55,D,2', 'A,A,2,NG,E,N', 'N,C,2,18,C,2', 'A,G,4,18,7,2', '2,H,6,0Z,K,N', 'D,L,4,3T,E,N', 'H,H,1,33,2,2', '2,B,2,1K,D,3', 'G,R,4,55,E,2', 'C,E,2,3T,A,2', 'A,A,4,NG,D,N', 'X,J,2,5L,G,2', '2,D,8,0Z,J,N', 'C,C,4,9F,4,2', 'N,D,3,18,C,N', 'C,A,2,NP,G,N', 'N,A,4,18,F,N', 'A,A,4,9J,3,2', 'B,P,2,5E,H,N', 'F,K,4,6R,C,2', 'G,U,4,55,E,2', 'A,E,2,5E,G,N', 'N,F,4,1Z,A,2', 'N,V,4,NG,H,N', 'A,F,4,1Z,A,2', 'C,C,6,3T,B,2', 'G,X,4,55,E,2', 'Z,J,4,5L,E,2', 'F,F,2,6R,E,2', 'E,U,6,9F,A,2', '2,G,6,0Z,K,N', 'A,A,4,18,9,2', 'F,A,4,6R,B,2', 'R,N,4,1J,A,2', 'C,J,6,A4,D,N', 'C,H,2,A4,E,N', 'X,J,4,5L,G,2', 'C,H,7,NP,J,N', 'Z,C,4,5L,E,2', 'U,C,2,5N,A,2', '2,A,2,1K,B,3', 'C,Z,6,A4,F,N', 'F,S,4,5X,5,2', 'G,J,4,55,D,2', 'C,E,4,3T,A,2', 'A,G,2,1Z,8,2', 'A,R,2,NG,E,H', 'Y,E,6,5L,E,2', 'F,H,2,00,H,N', 'A,C,6,BR,C,N', 'E,4,4,9F,A,2', 'N,B,2,1Z,E,2', 'L,J,5,7N,D,V', 'N,V,4,NG,J,N', 'D,S,2,NP,L,N', 'N,P,4,1Z,B,2', 'D,L,4,3T,D,N', 'D,P,2,3T,E,N', 'W,V,2,9J,C,2', 'M,E,3,08,B,J', 'N,2,4,1Z,B,2', 'A,F,2,5E,H,N', 'F,G,4,0G,E,N', 'N,F,7,1C,C,2', 'A,W,4,NG,H,N', 'N,4,2,1Z,C,2', 'N,M,4,18,C,2', 'A,1,6,E3,E,G', 'C,G,7,NP,G,N', 'N,P,2,1Z,D,2', 'C,E,6,A4,C,N', 'A,U,0,33,8,2', 'A,T,2,NG,E,N', 'F,F,2,6R,D,2', 'G,S,4,55,C,2', 'C,F,2,NP,J,N', 'A,F,4,1Z,9,2', 'Y,F,6,5L,E,2', 'N,7,2,1Z,D,2', 'U,C,4,0Z,J,N', 'U,C,2,5N,B,2', 'F,K,4,55,D,2', 'A,F,4,5E,E,N', 'A,A,4,1Z,7,2', 'F,D,2,55,A,2', 'C,G,2,3T,C,2', 'N,U,4,18,E,2', 'Z,J,4,5L,F,2', 'H,J,1,33,3,2', 'X,J,2,5L,E,2', 'X,E,4,5L,E,2', 'A,E,2,NG,E,N', 'F,T,4,BR,F,N', 'A,E,0,0E,F,N', 'A,E,4,NG,D,N', 'A,M,4,1Z,8,2', 'N,V,2,1Z,A,2', 'G,P,2,0G,J,N', 'F,B,2,55,A,2', '5,H,8,0Z,J,N', 'G,S,2,0G,J,N', 'T,9,1,33,B,N', 'C,D,4,9F,2,2', 'U,D,4,0Z,K,N', 'C,D,2,NP,J,N', 'U,B,4,0Z,H,N', 'J,N,1,33,5,2', 'A,R,4,NG,E,X', 'M,D,4,1T,7,2', 'A,G,2,BR,E,N', 'S,8,2,09,E,0', 'A,G,4,1Z,7,2', 'N,Y,4,5E,K,N', 'G,M,4,0G,J,N', 'C,G,2,3T,D,2', 'N,R,2,1Z,D,2', 'U,C,6,0Z,J,N', 'A,B,4,NG,D,N', 'N,9,4,1Z,E,2', 'T,9,1,33,8,N', 'F,F,6,6R,C,2', 'G,N,4,55,D,2', 'Y,J,2,5L,F,2', 'F,P,4,55,D,2', 'C,E,7,NP,H,N', 'A,D,2,1Z,6,2', 'A,M,4,18,C,2', 'X,D,A,EB,9,X', 'P,P,2,55,B,2', 'D,J,2,3T,D,2', 'A,1,0,33,A,2', 'J,P,1,33,7,2', 'N,N,6,5E,H,N', 'A,H,2,1Z,8,2', 'N,E,4,12,A,2', '2,B,2,5G,E,5', 'X,H,4,5L,F,2', 'F,H,4,0G,G,N', '2,C,8,0Z,H,N', 'Y,B,2,5L,E,2', 'B,U,2,5E,K,N', 'N,5,6,1Z,D,2', 'A,B,2,18,A,2', 'X,U,2,5N,E,2', 'U,M,6,5N,D,2', 'F,C,4,0F,F,2', 'N,2,1,1Z,C,2', 'A,F,4,5E,F,N', 'G,T,4,0G,K,N', 'J,H,7,3T,E,9', '2,H,8,0Z,K,N', 'P,P,2,55,D,2', 'F,G,4,0G,H,N', '5,1,5,F5,B,8', 'N,E,4,5E,J,N', 'F,K,4,6R,D,N', 'U,B,6,5N,A,2', '2,H,8,0Z,J,N', '3,B,2,1K,B,3', 'A,G,2,NG,E,N', 'N,T,6,1Z,B,2', 'F,A,4,0G,E,N', 'U,E,2,0X,K,N', 'U,C,2,0X,K,N', 'X,L,6,5N,D,2', 'N,2,B,21,1,D', 'T,9,1,33,A,N', 'A,C,2,18,C,2', 'A,A,4,BR,C,N', 'A,B,4,1Z,8,2', 'C,D,4,3T,A,2', 'G,U,4,0G,K,N', 'F,G,4,0G,G,N', 'G,S,4,0G,K,N', 'N,F,4,12,E,2', 'D,M,4,9F,7,2', 'B,4,5,FR,4,5', 'F,C,A,AE,7,F', 'N,X,6,NG,J,N', 'G,P,2,55,D,2', 'N,9,2,1Z,C,2', 'X,Z,2,5N,F,2', 'N,W,4,5E,J,N', 'F,F,2,0G,H,N', 'U,C,6,0X,K,N', 'A,H,4,1Z,7,2', 'A,F,0,0E,E,N', 'V,A,5,4R,A,Y', 'X,L,6,5N,E,2', 'N,S,4,1Z,A,2', 'X,C,4,5L,G,2', 'B,U,6,5E,K,N', 'K,2,2,E7,A,Y', 'E,U,4,9F,A,2', 'N,P,4,12,C,2', 'N,R,4,1Z,A,2', 'A,L,6,NG,E,N', 'G,L,4,55,B,2', 'A,F,2,18,8,2', 'F,H,6,0G,F,N', 'C,D,6,A4,C,N', 'N,U,2,18,E,2', '2,5,4,12,G,5', 'A,B,4,1Z,7,2', 'U,B,4,5L,E,2', 'L,D,6,NE,F,0', 'C,G,7,NP,H,N', 'A,A,2,1Z,8,2', 'A,T,6,NG,F,N', 'C,B,6,3T,5,8', 'X,Z,2,5N,E,2', 'K,D,A,A2,8,B', 'N,1,4,1Z,D,2', 'G,Z,4,55,E,2', 'U,J,6,5L,E,2', 'A,E,F,13,1,4', 'U,D,2,5L,D,2', 'A,N,2,18,C,2', '2,C,6,0Z,J,N', 'C,D,2,NP,H,N', 'A,K,4,1Z,7,2', 'D,2,6,3T,E,N', 'F,A,4,55,9,2', 'N,V,4,18,D,N', 'T,W,1,33,8,2', 'C,D,2,A4,B,N', 'F,H,2,0G,F,N', 'A,P,4,NG,E,N', 'Y,K,2,5L,F,2', 'U,E,4,0X,K,N', 'L,D,6,NE,E,0', 'U,C,6,0N,J,N', 'A,1,0,33,9,2', 'K,A,4,5X,4,2', 'A,M,2,18,B,2', 'W,A,4,18,G,2', 'A,G,2,0Z,8,2', 'U,D,6,0N,K,N', 'C,F,2,NP,H,N', 'X,J,4,5L,H,2', 'G,K,4,55,B,2', 'F,G,2,0G,H,N', 'C,G,7,NP,F,N', 'B,N,C,J2,5,8', 'Y,D,6,5L,D,2', 'D,P,4,3T,E,N', 'Y,G,6,5L,E,2', 'C,L,8,NP,J,N', 'F,T,4,BR,G,N', 'A,A,4,18,A,2', 'C,H,6,A4,C,N', '2,5,1,4L,H,4', '5,8,5,85,5,8', 'G,K,4,55,C,2', 'A,E,4,5E,E,N', 'G,S,4,55,E,2', 'D,1,6,3T,F,N', 'F,C,2,0G,E,N', '2,5,4,56,H,0', 'N,S,4,1Z,C,2', 'N,8,2,1Z,E,2', 'B,A,2,8E,5,3', 'F,V,4,55,E,2', 'N,7,2,1Z,C,2', 'A,1,4,NG,K,N', 'C,L,2,NP,J,N', 'C,C,2,3T,B,2', 'A,N,2,1Z,9,2', 'F,A,4,9J,6,2', 'U,G,6,5N,C,2', 'X,C,4,5L,E,2', 'N,U,4,5E,J,N', 'G,U,4,9J,9,2', '0,2,C,F6,4,1', '5,F,2,0N,K,N', 'A,G,2,5E,F,N', 'D,M,4,9F,2,3', 'F,C,4,9J,6,2', 'B,R,9,6D,A,G', 'A,E,2,5E,F,N', 'C,E,8,NP,H,N', 'N,2,4,NG,K,N', 'J,H,7,3T,D,9', 'N,E,2,1Z,E,2', 'T,6,1,33,A,N', 'N,R,2,9J,B,2', 'N,V,2,18,E,2', 'U,C,4,0N,K,N', 'F,E,2,0G,E,N', 'N,9,4,1Z,D,2', 'D,1,2,3T,F,N', 'C,F,8,NP,G,N', 'R,E,1,83,A,5', 'T,N,1,33,9,N', 'F,H,2,0G,E,N', 'A,R,4,NG,G,N', 'N,1,4,1Z,F,2', 'C,R,1,65,E,8', 'N,2,4,1Z,C,2', 'D,Y,2,3T,E,N', 'C,H,7,NP,H,N', 'Y,K,6,5L,F,2', 'N,R,2,1Z,B,2', 'C,G,4,9F,7,2', 'F,B,6,0G,E,N', 'K,4,4,0F,F,3', 'U,B,6,0N,K,N', 'C,D,2,NP,K,N', 'A,H,6,NG,E,N', 'D,X,2,3T,E,N', 'X,J,0,0L,F,2', 'F,K,4,6R,D,2', 'A,L,4,BR,E,N', 'C,M,2,3T,C,2', 'R,S,6,1T,E,2', 'A,M,2,1Z,A,2', 'D,J,6,3T,E,N', 'C,J,6,A4,E,N', 'X,0,2,5N,G,2', 'C,A,1,1J,5,3', 'C,C,2,A4,C,N', 'B,E,4,1U,1,2', 'A,P,4,NG,G,N', 'G,P,2,55,C,2', 'C,A,2,BM,G,N', 'G,U,2,9J,9,2', 'C,B,2,BM,G,N', 'J,N,1,33,4,2', 'X,C,4,5L,F,2', 'G,M,4,9J,7,2', 'C,C,4,9F,3,2', 'U,D,6,5L,D,2', 'N,R,4,1Z,B,2', 'U,D,6,5N,A,2', 'R,P,4,1T,E,2', '6,C,H,H0,6,H', 'A,H,6,5E,G,N', 'A,G,K,15,7,8', 'F,E,4,55,A,2', 'A,F,2,5E,F,N', 'C,B,6,3T,A,2', 'C,B,4,3T,B,2', 'F,H,4,0G,F,N', 'C,B,2,3T,A,2', 'F,F,4,0G,F,N', 'U,J,2,5L,E,2', 'J,J,1,33,4,2', 'D,E,F,B5,Y,0', 'W,V,2,9J,B,2', 'A,N,4,1Z,A,2', 'Y,F,2,5L,E,2', 'X,L,2,5N,E,2', 'G,P,4,55,B,2', 'A,P,E,2C,C,0', 'A,M,4,1Z,7,2', 'D,J,6,3T,D,2', 'F,K,4,0G,H,N', 'C,F,4,3T,C,2', 'C,H,2,3T,D,2', 'Y,B,2,5L,D,2', 'F,B,4,0G,E,N', 'J,H,1,33,4,2', 'N,E,4,1Z,C,2', 'A,G,2,5E,E,N', 'B,Z,6,5E,K,N', 'R,R,2,1T,B,2', 'E,T,6,9F,C,2', 'U,A,2,5L,D,2', 'C,E,6,0X,K,N', 'G,V,5,4Z,9,Y', 'G,K,4,9J,7,2', 'F,F,6,0G,E,N', 'C,B,8,NP,H,N', 'A,K,4,NG,E,N', 'F,A,2,55,9,2', 'A,G,4,18,A,2', 'C,A,4,NP,F,N', '2,A,1,15,D,3', 'C,B,6,3T,B,2', 'N,Z,4,NG,K,N', 'C,K,6,3T,D,2', 'G,W,4,55,E,2', 'A,H,4,NG,E,N', 'U,B,2,5N,A,2', 'A,L,2,1Z,8,2', 'A,P,4,NG,H,N', 'A,H,2,1Z,9,2', 'C,C,2,NP,H,N', 'A,C,2,NG,E,N', 'U,A,4,0N,J,N', 'A,H,4,1Z,8,2', 'F,D,2,0F,F,2', 'X,H,4,5L,G,2', 'D,N,4,3T,E,N', 'F,B,4,0F,F,2', 'Y,A,6,5L,E,2', 'G,S,2,0G,K,N', 'C,C,6,3T,A,2', 'W,U,2,9J,B,2', 'A,C,F,B0,X,B', 'D,L,2,9F,6,2', 'A,E,4,5E,J,N', 'U,F,4,5L,E,2', 'G,P,4,55,C,2', 'F,F,4,55,A,2', '5,D,6,0Z,J,N', 'T,Y,U,05,P,5', 'N,E,4,1Z,B,2', '5,H,8,0Z,K,N', 'C,F,8,NP,J,N', 'D,U,4,3T,E,N', 'F,F,2,0G,E,N', 'U,N,6,5N,D,2', 'U,F,6,5L,E,2', 'Z,H,4,5L,E,2', 'D,L,4,9F,6,2', '5,G,4,0Z,K,N', 'F,K,A,DL,E,F', 'U,A,4,5L,D,2', '1,1,1,11,1,1', '6,5,G,HJ,J,6', 'F,H,2,55,B,2', 'N,R,4,NG,H,N', 'B,U,6,5E,J,N', 'A,N,4,1Z,8,2', 'A,4,4,NG,K,N', 'F,V,6,18,E,2', 'N,U,4,5E,K,N', 'A,D,2,18,B,2', 'U,L,2,5N,D,2', 'A,G,4,NG,E,N', 'N,F,4,1Z,C,2', 'A,T,2,NG,F,N', 'U,C,4,0N,J,N', 'A,E,4,1Z,9,2', 'D,7,6,A4,G,N', 'F,E,4,0G,E,N', 'N,6,2,1Z,D,2', 'C,M,2,3T,D,2', 'G,N,4,55,E,2', 'F,A,4,9J,2,2', 'N,X,4,1Z,B,2', 'N,R,2,1Z,C,2', 'F,H,6,0G,E,N', 'H,D,8,4X,B,E', 'A,K,4,1Z,8,2', 'N,S,2,1Z,B,2', 'N,E,4,1Z,D,2', 'D,L,2,9F,8,2', 'C,P,2,NP,K,N', 'C,R,7,NP,J,N', 'U,F,2,5L,E,2', '3,A,1,1K,6,3', 'U,B,2,5L,E,2', 'M,G,4,1T,4,2', 'C,M,4,9F,4,2', 'N,X,1,0Z,B,2', 'D,F,4,3T,D,2', 'U,D,4,0Z,J,N', 'R,C,2,1T,8,2', 'H,C,A,AE,9,F', 'U,B,4,0X,H,N', 'X,J,2,5L,F,2', 'A,A,2,1Z,7,2', 'F,T,2,BR,G,N', 'F,F,2,6R,C,2', 'N,8,4,12,D,2', 'F,D,6,6R,A,2', 'N,U,4,1Z,A,2', 'A,E,2,NG,D,N', '5,H,6,0Z,K,N', 'A,C,4,1Z,8,2', 'G,1,6,6R,G,2', 'D,M,4,9F,8,2', 'U,J,2,5L,F,2', 'A,C,2,BR,D,N', 'F,A,4,0F,F,2', 'N,C,4,1Z,E,2', 'N,Y,4,NG,K,N', 'N,E,1,0Z,C,2', '2,5,B,K6,D,X', 'X,U,6,5N,E,2', '2,3,1,G4,1,G', 'N,P,4,5E,J,N', 'X,C,4,5L,H,2', 'A,H,4,1Z,9,2', 'P,P,2,55,C,2', 'N,C,2,1Z,E,2', 'A,J,4,1Z,8,2', '4,3,B,JC,A,6', 'D,L,2,9F,7,2', 'R,N,4,1T,A,2', 'N,2,4,ZX,2,0', 'C,B,2,3T,9,2', 'W,G,5,2Z,3,S', 'A,H,2,5E,G,N', 'A,W,4,NG,J,N', 'G,M,4,55,B,2', 'N,D,2,1Z,E,2', 'C,E,8,NP,F,N', 'D,0,2,3T,F,N', 'G,R,4,9J,9,2', 'A,G,6,NG,E,N', '2,A,1,1K,C,4', 'F,F,2,6R,C,N', 'H,3,A,CC,D,1', 'A,N,4,12,A,2', 'F,B,4,0F,G,2', 'N,W,4,5E,K,N', 'F,H,2,55,A,2', '5,E,8,0Z,J,N', 'A,C,2,5E,E,N', 'U,B,2,5N,B,2', 'G,B,6,56,5,2', 'A,N,1,ZX,2,3', 'A,L,4,1Z,8,3', 'N,2,2,1Z,E,2', 'C,A,4,3T,B,2', 'C,K,2,NP,K,N', 'A,C,4,1Z,9,2', 'F,A,4,0F,G,2', 'Y,H,2,5L,E,2', 'K,I,A,45,X,3', 'F,G,4,55,B,2', 'U,C,4,0X,K,N', 'G,C,P,26,X,A', 'A,M,2,1Z,9,2', 'F,H,4,55,A,2', 'A,A,D,AN,A,J', 'C,B,6,3T,2,0', 'N,P,4,1Z,A,2', 'G,P,2,0G,H,N', 'Y,D,6,5L,E,2', 'A,S,D,98,6,A', 'A,A,4,18,8,2', 'H,4,3,FZ,B,0', 'N,1,4,1Z,B,2', 'C,M,4,3T,D,2', 'N,8,4,1Z,E,2', '6,2,5,4J,5,4', 'A,E,5,8E,E,N', 'A,G,4,1Z,8,2', 'D,E,4,3T,F,N', 'G,P,2,55,E,2', 'B,Z,2,5E,J,N', 'H,1,A,E0,9,Y', 'H,4,A,CC,8,1', 'D,1,4,3T,F,N', 'N,X,4,1Z,A,2', 'Y,E,2,5L,E,2', 'T,7,1,33,9,N', 'F,E,6,0G,E,N', '2,A,1,15,B,3', 'D,E,8,4B,8,0', 'F,D,2,0G,E,N', 'B,N,2,5E,J,N', '2,B,1,1K,B,3', 'G,H,4,9J,7,2', 'D,E,4,3T,D,2', 'Z,J,2,5L,H,2', 'N,Y,4,1Z,A,2', 'J,0,5,2P,7,H', 'C,H,6,A4,E,N', 'M,4,A,CC,D,1', 'E,3,4,9F,A,2', 'A,B,2,NG,D,N', 'Y,B,6,5L,E,2', 'A,F,0,0E,F,N', 'S,B,A,11,B,B', '2,A,1,1J,5,3', 'X,F,2,5L,E,2', 'U,D,6,5N,B,2', 'A,M,4,12,8,2', 'A,F,2,NG,D,N', 'Z,J,2,5L,E,2', 'F,A,4,55,8,2', 'D,3,4,9F,B,2', 'N,1,4,1Z,E,2', 'A,B,4,5E,E,N', 'F,C,4,55,9,2', 'N,1,2,1Z,E,2', 'G,F,2,0G,J,N', 'Z,F,2,5L,E,2', 'G,R,4,55,C,2', 'F,B,4,9J,4,2', 'A,F,0,33,6,2', 'N,S,4,5E,K,N', 'N,E,4,1Z,A,2', 'U,E,6,0X,K,N', 'N,X,4,NG,H,N', 'U,G,6,5L,E,2', 'G,N,4,55,B,2', 'N,J,E,I5,6,8', 'E,T,6,9F,A,2', 'A,1,0,33,C,2', 'F,C,4,0F,G,2', 'N,R,4,1Z,D,2', 'A,M,4,1Z,9,2', 'D,E,4,3T,E,N', 'N,1,5,58,B,5', 'X,L,2,5N,D,2', 'Y,D,2,5L,E,2', 'A,L,4,18,D,2', 'U,E,2,5L,E,2', 'N,F,6,1F,C,N', 'A,P,4,NG,F,N', 'U,C,2,0X,J,N', 'A,L,4,NG,E,N', 'F,D,4,55,9,2', 'C,A,2,NP,F,N', 'D,L,4,9F,7,Z', 'A,H,4,18,A,2', 'A,A,6,BR,D,N', 'N,2,5,46,1,2', 'L,G,4,1T,4,2', 'G,K,4,55,D,2', 'C,A,4,3T,9,2', 'N,S,6,5E,J,N', 'N,B,4,1Z,E,2', 'N,R,2,1Z,A,2', 'U,J,6,5L,F,2', 'N,F,4,12,B,2', 'A,1,0,33,B,2', 'A,A,4,9J,4,2', 'C,B,4,9F,2,2', 'N,V,4,1Z,A,2', 'D,P,2,3T,F,N', 'U,C,4,0Z,H,N', 'N,R,4,1Z,C,2', 'C,P,8,NP,J,N', 'U,H,6,5N,C,2', '2,D,6,0Z,K,N', 'A,F,0,33,4,2', 'A,B,2,BR,D,N', 'U,L,6,5N,C,2', 'N,B,F,AF,8,F', 'C,E,2,NP,F,N', 'C,J,2,3T,D,2', 'D,E,2,3T,E,N', 'C,H,2,3T,C,2', 'A,D,2,NG,D,N', 'A,H,4,5E,F,N', 'U,A,4,5L,E,2', 'E,H,0,33,1,2', 'Y,L,2,5L,G,2', 'A,N,4,NG,E,N', 'B,Z,6,5E,J,N', 'J,S,5,2U,4,S', 'T,9,1,38,9,N', 'J,V,1,33,7,2', 'N,R,2,9J,A,2', 'F,A,4,6R,C,2', '5,4,5,DF,6,9', 'U,C,6,5N,A,2', 'N,Y,2,1Z,D,2', 'A,H,4,5E,E,N', 'F,F,2,0G,F,N', 'D,0,4,3T,F,N', 'G,X,4,6R,F,2', '3,A,2,4F,B,3', 'F,G,4,0F,H,2', 'C,E,7,NP,G,N', 'A,H,6,5E,E,N', 'C,C,2,3T,C,2', 'G,Y,4,55,E,2', 'C,J,7,NP,K,N', 'A,N,2,NG,E,N', 'A,R,2,NG,E,N', 'A,N,2,1Z,A,2', 'C,F,2,NP,G,N', 'N,L,4,9J,8,2', 'C,C,4,6Y,2,3', 'A,R,E,2C,C,0', 'C,D,4,3T,C,2', 'G,S,4,0G,J,N', 'F,F,6,0G,H,N', 'U,G,6,0Z,J,N', 'C,Z,6,A4,G,N', 'R,S,6,1T,D,2', 'A,E,2,5E,N,G']\n",
      "------------------------------\n"
     ]
    }
   ],
   "source": [
    "print('检查字段')\n",
    "check_cols=['ies_name', 'gender_code', 'customer_type', 'family_name', 'member_type','member_status',\n",
    "            'member_age', 'whether_bind_wechat', 'province','city', 'belong_dealer_code', 'city_class',\n",
    "            'car_body_type', 'gearbox', 'crew_protection_system', 'car_class', 'output_year', 'assembly_factory', 'user_tag']\n",
    "for x in check_cols:\n",
    "    print(x)\n",
    "    print([y[0] for y in vehicle.select(x).distinct().collect()])\n",
    "    print('-'*30)"
   ]
  },
  {
   "cell_type": "markdown",
   "metadata": {},
   "source": [
    "#### <font color=red>5.合并主单和用户自身特征"
   ]
  },
  {
   "cell_type": "code",
   "execution_count": 20,
   "metadata": {},
   "outputs": [],
   "source": [
    "#原先的revise_type是没有清洗过的,所以用清洗的数据拼接每一次进店的修理类型\n",
    "def concat_revise_type(a,b,c,d,e,f,g):\n",
    "    lst=[]\n",
    "    if a==1.0:\n",
    "        lst.append('claim')\n",
    "    if b==1.0:\n",
    "        lst.append('routine_maintenance')\n",
    "    if c==1.0:\n",
    "        lst.append('accessory')\n",
    "    if d==1.0:\n",
    "        lst.append('accident_repair')\n",
    "    if e==1.0:\n",
    "        lst.append('general_repair')\n",
    "    if f==1.0:\n",
    "        lst.append('first_maintance')\n",
    "    if g==1.0:\n",
    "        lst.append('service_act')\n",
    "    return ','.join(lst)"
   ]
  },
  {
   "cell_type": "code",
   "execution_count": 21,
   "metadata": {},
   "outputs": [],
   "source": [
    "def merge_zhudan_veh(zhudandf,vehicle):\n",
    "    veh1=vehicle.drop('belong_dealer_code')\n",
    "\n",
    "    df=zhudandf.join(veh1,on=['vin'],how='left').\\\n",
    "    withColumn('repair_date',to_date(col('repair_date'))).\\\n",
    "    withColumn('purchase_date',to_date(col('purchase_date')))\n",
    "\n",
    "    df=df.persist(pyspark.StorageLevel.MEMORY_AND_DISK_SER)\n",
    "    df=broadcast(df)\n",
    "\n",
    "    print(df.count())\n",
    "    print(df.select('vin','repair_date').dropDuplicates().count())\n",
    "\n",
    "    org_vin=df.select('vin').distinct().count()\n",
    "    print('原始数据中,一共有多少个vin:',org_vin)\n",
    "\n",
    "    df1=df.filter(col('repair_date')>col('purchase_date'))\n",
    "    print(df1.count())\n",
    "\n",
    "    new_vin=df1.select('vin').distinct().count()\n",
    "    print('去掉购车时间比修理日期还要晚的数据以后,一共有多少个vin:',new_vin)\n",
    "\n",
    "    print('相当于有%d的vin的购车时间比修理日期还要晚,并且被直接清洗掉了的'%(org_vin-new_vin))\n",
    "    \n",
    "    the_udf=udf(lambda a,b,c,d,e,f,g:concat_revise_type(a,b,c,d,e,f,g))\n",
    "    print('其中有部分的数据是没有repair_type,因为pattern不完整的原因,不过还好都是索赔和内部车辆维修的,因此不做进一步处理了')\n",
    "    df1=df1.withColumn('repair_type',the_udf(col('claim'),col('routine_maintenance'),col('accessory'),\\\n",
    "                                               col('accident_repair'),col('general_repair'),\\\n",
    "                                               col('first_maintance'),col('service_act')))\n",
    "    \n",
    "    df1=df1.dropDuplicates()\n",
    "    print('开始baoyang数据trick清洗')\n",
    "    tmp=df1.select('vin','repair_date','mile').dropDuplicates().groupBy('vin').agg(count('repair_date').alias('baoyang_times'))\n",
    "    df1=df1.join(tmp,on=['vin'],how='left')\n",
    "\n",
    "    return df1"
   ]
  },
  {
   "cell_type": "markdown",
   "metadata": {},
   "source": [
    "#### <font color=red>6.提取保养数据,并进行清洗"
   ]
  },
  {
   "cell_type": "code",
   "execution_count": 22,
   "metadata": {},
   "outputs": [
    {
     "name": "stdout",
     "output_type": "stream",
     "text": [
      "832449\n",
      "832449\n",
      "原始数据中,一共有多少个vin: 168639\n",
      "815739\n",
      "去掉购车时间比修理日期还要晚的数据以后,一共有多少个vin: 165067\n",
      "相当于有3572的vin的购车时间比修理日期还要晚,并且被直接清洗掉了的\n",
      "其中有部分的数据是没有repair_type,因为pattern不完整的原因,不过还好都是索赔和内部车辆维修的,因此不做进一步处理了\n",
      "开始baoyang数据trick清洗\n"
     ]
    }
   ],
   "source": [
    "df1=merge_zhudan_veh(zhudandf,vehicle)\n",
    "\n",
    "df1=df1.persist(pyspark.StorageLevel.MEMORY_AND_DISK_SER)\n",
    "df1=broadcast(df1)"
   ]
  },
  {
   "cell_type": "code",
   "execution_count": 23,
   "metadata": {
    "scrolled": true
   },
   "outputs": [],
   "source": [
    "def rebuild_data(df1):\n",
    "    baoyang=df1.filter((col('first_maintance')==1)|(col('routine_maintenance')==1))\n",
    "    nobaoyang=df1.filter((col('first_maintance')!=1)&(col('routine_maintenance')!=1))\n",
    "#     print(baoyang.count()+nobaoyang.count()==df1.count())\n",
    "\n",
    "    print('1.baoyang中取出购车时间>=2013/1/1的')\n",
    "    buy_start='2013-01-01'\n",
    "    baoyang=baoyang.withColumn('buy_start',to_date(lit(buy_start)))\n",
    "    baoyang_model_1=baoyang.filter(col('purchase_date')>=col('buy_start')).drop('buy_start')\n",
    "#     shoubao_vin=baoyang_model.filter(col('first_maintance')==1).select('vin').distinct().withColumn('have_shoubao',lit(1))\n",
    "#     baoyang_model=baoyang_model.join(shoubao_vin,on='vin',how='left')\n",
    "#     del shoubao_vin\n",
    "#     baoyang_model=baoyang_model.withColumn('have_shoubao',when(col('have_shoubao').isNull(),lit(0)).otherwise(col('have_shoubao')))\n",
    "#     baoyang_model_1=baoyang_model.filter(col('have_shoubao')==1).drop('have_shoubao')\n",
    "    \n",
    "    a=baoyang.select('vin').distinct().count()\n",
    "    print('有多少vin有做过保养:',a)\n",
    "    b=baoyang_model_1.select('vin').distinct().count()\n",
    "    print('有多少vin有首保:',b)\n",
    "    print('对应占比是:',b/a)\n",
    "    baoyang_model_1=baoyang_model_1.dropDuplicates()\n",
    "    baoyang_model_1=baoyang_model_1.withColumn('last_repair_date',lag(col('repair_date'),-1).over(Window.partitionBy('vin').orderBy(desc('repair_date')))).\\\n",
    "    withColumn('last_mile',lag(col('mile'),-1).over(Window.partitionBy('vin').orderBy(desc('repair_date')))).\\\n",
    "    withColumn('last_repair_date',when(col('last_repair_date').isNull(),col('purchase_date')).otherwise(col('last_repair_date'))).\\\n",
    "    withColumn('last_mile',when(col('last_mile').isNull(),lit(0)).otherwise(col('last_mile'))).\\\n",
    "    withColumn('daydiff',datediff(col('repair_date'),col('last_repair_date'))).\\\n",
    "    withColumn('milediff',col('mile')-col('last_mile'))\n",
    "\n",
    "    baoyang_model_1=baoyang_model_1.filter(col('daydiff')>7.0)\n",
    "    \n",
    "    if 'baoyang_times' in baoyang_model_1.columns:\n",
    "        baoyang_model_1=baoyang_model_1.drop('baoyang_times')\n",
    "    tmp=baoyang_model_1.select('vin','repair_date').dropDuplicates().groupBy('vin').agg(count('repair_date').alias('baoyang_times'))\n",
    "    baoyang_model_1=baoyang_model_1.join(tmp,on=['vin'],how='left')\n",
    "\n",
    "    df11=baoyang_model_1.filter(col('baoyang_times')==1)\n",
    "    df11=df11.filter(col('daydiff')>7)\n",
    "    df11=df11.persist(pyspark.StorageLevel.MEMORY_AND_DISK_SER)\n",
    "    df11=broadcast(df11)\n",
    "\n",
    "    df22=baoyang_model_1.filter(col('baoyang_times')==2)\n",
    "    tmp=df22.select('vin','repair_date','daydiff').dropDuplicates().groupBy('vin').agg(mean('daydiff')).withColumnRenamed('avg(daydiff)','daydiff_habit')\n",
    "    df22=df22.join(tmp,on=['vin'],how='left').withColumn('right_habit',col('daydiff_habit')*0.5)\n",
    "    df22=df22.filter(col('daydiff')>=col('right_habit'))\n",
    "    df22=df22.persist(pyspark.StorageLevel.MEMORY_AND_DISK_SER)\n",
    "    df22=broadcast(df22)\n",
    "\n",
    "    df33=baoyang_model_1.filter(col('baoyang_times')>=3)\n",
    "    df33=df33.filter(col('daydiff')>14)\n",
    "    df33=df33.persist(pyspark.StorageLevel.MEMORY_AND_DISK_SER)\n",
    "    df33=broadcast(df33)\n",
    "\n",
    "    df11=df11.drop('baoyang_times')\n",
    "    df22=df22.drop('right_habit','daydiff_habit','baoyang_times')\n",
    "    df33=df33.drop('baoyang_times')\n",
    "    \n",
    "    same=[x for x in [y for y in df11.columns if y in df22.columns] if x in df33.columns]\n",
    "    baoyang_model_2=df11.select(same).unionAll(df22.select(same)).unionAll(df33.select(same))\n",
    "    baoyang_model_2=baoyang_model_2.persist(pyspark.StorageLevel.MEMORY_AND_DISK_SER)\n",
    "    baoyang_model_2=broadcast(baoyang_model_2)\n",
    "    \n",
    "    del df11\n",
    "    del df22\n",
    "    del df33\n",
    "    del tmp\n",
    "    del a\n",
    "    del b\n",
    "    \n",
    "    wrong_mile_vin=baoyang_model_2.filter(col('milediff')<=0).select('vin').dropDuplicates().withColumn('wrong_mile_vin',lit(1))\n",
    "    print('公里数差<=0的vin的脏数据有:',wrong_mile_vin.count())\n",
    "\n",
    "    baoyang_model_2=baoyang_model_2.join(wrong_mile_vin,on=['vin'],how='left').\\\n",
    "    withColumn('wrong_mile_vin',when(col('wrong_mile_vin').isNull(),lit(0)).otherwise(col('wrong_mile_vin')))\n",
    "\n",
    "    print('取出没有公里数差的数据')\n",
    "    baoyang_model_2=baoyang_model_2.filter(col('wrong_mile_vin')==0)\n",
    "    \n",
    "    print('取出个人用户')\n",
    "    baoyang_model_2=baoyang_model_2.filter(col('customer_type')=='个人')\n",
    "    baoyang_model_2=baoyang_model_2.drop('wrong_mile_vin','last_repair_date','last_mile',\n",
    "                                     'baoyang_times','repair_year', 'daydiff', 'milediff').dropDuplicates()\n",
    "    \n",
    "    baoyang_model_vin=baoyang_model_2.select('vin').distinct().withColumn('in_baoyang_model',lit(1))\n",
    "\n",
    "    baoyang_rule=baoyang.join(baoyang_model_vin,on=['vin'],how='left')\n",
    "    baoyang_rule=baoyang_rule.withColumn('in_baoyang_model',when(col('in_baoyang_model').isNull(),lit(0)).otherwise(col('in_baoyang_model')))\n",
    "    baoyang_rule=baoyang_rule.filter(col('in_baoyang_model')==0).drop('in_baoyang_model')\n",
    "    \n",
    "    del baoyang_model_vin\n",
    "    del wrong_mile_vin\n",
    "    \n",
    "    print('(1)其中baoyang_model需要重新run_last_run')\n",
    "    print('(2)其中baoyang_rule需要进行同样的天数清洗')\n",
    "    print('(3)其中nobaoyang仅仅代表是没有保养的数据,其中的vin可能有保养记录,也可能没有保养记录')\n",
    "    \n",
    "    return baoyang_model_2,baoyang_rule,nobaoyang"
   ]
  },
  {
   "cell_type": "code",
   "execution_count": 24,
   "metadata": {},
   "outputs": [
    {
     "name": "stdout",
     "output_type": "stream",
     "text": [
      "1.baoyang中取出购车时间>=2013/1/1的\n",
      "有多少vin有做过保养: 147334\n",
      "有多少vin有首保: 111163\n",
      "对应占比是: 0.7544965859882987\n",
      "公里数差<=0的vin的脏数据有: 400\n",
      "取出没有公里数差的数据\n",
      "取出个人用户\n",
      "(1)其中baoyang_model需要重新run_last_run\n",
      "(2)其中baoyang_rule需要进行同样的天数清洗\n",
      "(3)其中nobaoyang仅仅代表是没有保养的数据,其中的vin可能有保养记录,也可能没有保养记录\n"
     ]
    }
   ],
   "source": [
    "baoyang_model,baoyang_rule,nobaoyang=rebuild_data(df1)\n",
    "\n",
    "baoyang_model=baoyang_model.withColumn('mark',lit('模型预测'))\n",
    "baoyang_rule=baoyang_rule.withColumn('mark',lit('规则预测'))\n",
    "nobaoyang=nobaoyang.withColumn('mark',lit('非保养数据'))\n",
    "\n",
    "baoyang_model=baoyang_model.persist(pyspark.StorageLevel.MEMORY_AND_DISK_SER)\n",
    "baoyang_model=broadcast(baoyang_model)\n",
    "    \n",
    "baoyang_rule=baoyang_rule.persist(pyspark.StorageLevel.MEMORY_AND_DISK_SER)\n",
    "baoyang_rule=broadcast(baoyang_rule)\n",
    "\n",
    "nobaoyang=nobaoyang.persist(pyspark.StorageLevel.MEMORY_AND_DISK_SER)\n",
    "nobaoyang=broadcast(nobaoyang)"
   ]
  },
  {
   "cell_type": "code",
   "execution_count": 25,
   "metadata": {},
   "outputs": [],
   "source": [
    "same=[x for x in [y for y in baoyang_model.columns if y in baoyang_rule.columns] if x in nobaoyang.columns]\n",
    "fin_zhudan=baoyang_model.select(same).unionAll(baoyang_rule.select(same)).unionAll(nobaoyang.select(same))"
   ]
  },
  {
   "cell_type": "code",
   "execution_count": 26,
   "metadata": {},
   "outputs": [
    {
     "name": "stdout",
     "output_type": "stream",
     "text": [
      "[]\n",
      "[]\n"
     ]
    }
   ],
   "source": [
    "tongyi_cols=['vin','repair_date','mile','repair_amount','repair_amount_pre_discount','labor_fee',\n",
    "             'part_fee','claim','routine_maintenance','accessory','accident_repair','general_repair',\n",
    "             'first_maintance','service_act','belong_dealer_code','city','customer_type',\n",
    "             'purchase_date','ies_name','province','family_name','city_class','member_type',\n",
    "             'whether_bind_wechat','car_body_type','gearbox','crew_protection_system','car_class',\n",
    "             'output_year','assembly_factory','user_tag','repair_type','mark',\n",
    "             'gender_code', 'member_status', 'member_age']\n",
    "cols=fin_zhudan.columns\n",
    "same1=[x for x in tongyi_cols if x not in cols]\n",
    "print(same1)\n",
    "same2=[x for x in cols if x not in tongyi_cols]\n",
    "print(same2)"
   ]
  },
  {
   "cell_type": "code",
   "execution_count": 27,
   "metadata": {},
   "outputs": [],
   "source": [
    "fin_zhudan=fin_zhudan.select(tongyi_cols).dropDuplicates()"
   ]
  },
  {
   "cell_type": "code",
   "execution_count": 28,
   "metadata": {},
   "outputs": [
    {
     "name": "stdout",
     "output_type": "stream",
     "text": [
      "811821\n",
      "+-----------------+-----------+-----+-------------+--------------------------+---------+--------+-----+-------------------+---------+---------------+--------------+---------------+-----------+------------------+----+-------------+-------------+--------+--------+-----------+----------+-----------+-------------------+-------------+-------+----------------------+---------+-----------+----------------+------------+--------------------+----+-----------+-------------+----------+\n",
      "|              vin|repair_date| mile|repair_amount|repair_amount_pre_discount|labor_fee|part_fee|claim|routine_maintenance|accessory|accident_repair|general_repair|first_maintance|service_act|belong_dealer_code|city|customer_type|purchase_date|ies_name|province|family_name|city_class|member_type|whether_bind_wechat|car_body_type|gearbox|crew_protection_system|car_class|output_year|assembly_factory|    user_tag|         repair_type|mark|gender_code|member_status|member_age|\n",
      "+-----------------+-----------+-----+-------------+--------------------------+---------+--------+-----+-------------------+---------+---------------+--------------+---------------+-----------+------------------+----+-------------+-------------+--------+--------+-----------+----------+-----------+-------------------+-------------+-------+----------------------+---------+-----------+----------------+------------+--------------------+----+-----------+-------------+----------+\n",
      "|LSVAF25E6HN062064| 2018-08-31| 7769|          587|                       586|      249|     338|    0|                  1|        0|              0|             0|              0|          0|          74310031|  嘉兴|           个人|   2017-07-26|      明锐|      浙江|          2|      二线城市|         金卡|                  是|            A|      F|                     2|       5E|          H|               N|A,F,2,5E,H,N| routine_maintenance|模型预测|          1|           有效|         4|\n",
      "|LSVGJ4557D2024908| 2016-10-17|20707|          332|                       377|      105|     227|    0|                  1|        0|              0|             0|              0|          0|          74309021|  苏州|           个人|   2013-06-27|      晶锐|      江苏|          1|    二线发达城市|        非会员|                  否|            G|      J|                     4|       55|          D|               2|G,J,4,55,D,2| routine_maintenance|模型预测|          2|          非会员|         0|\n",
      "|LSVAA25E1EN017625| 2014-11-15| 5081|          485|                       485|      334|     151|    0|                  0|        0|              1|             0|              1|          0|          74309021|  苏州|           个人|   2014-09-22|      明锐|      江苏|          2|    二线发达城市|         绿卡|                  否|            A|      A|                     2|       5E|          E|               N|A,A,2,5E,E,N|accident_repair,f...|模型预测|          1|           有效|         6|\n",
      "+-----------------+-----------+-----+-------------+--------------------------+---------+--------+-----+-------------------+---------+---------------+--------------+---------------+-----------+------------------+----+-------------+-------------+--------+--------+-----------+----------+-----------+-------------------+-------------+-------+----------------------+---------+-----------+----------------+------------+--------------------+----+-----------+-------------+----------+\n",
      "only showing top 3 rows\n",
      "\n",
      "None\n"
     ]
    }
   ],
   "source": [
    "print(fin_zhudan.count())\n",
    "print(fin_zhudan.show(3))"
   ]
  },
  {
   "cell_type": "code",
   "execution_count": 29,
   "metadata": {},
   "outputs": [
    {
     "data": {
      "text/plain": [
       "DataFrame[]"
      ]
     },
     "execution_count": 29,
     "metadata": {},
     "output_type": "execute_result"
    }
   ],
   "source": [
    "fin_zhudan.registerTempTable('fin_zhudan_reg')\n",
    "spark.sql('drop table if exists clms.skd_zhudan')\n",
    "spark.sql('create table if not exists clms.skd_zhudan (vin string, repair_date date, mile double,\\\n",
    "repair_amount double,repair_amount_pre_discount double, labor_fee double, part_fee double, claim double,\\\n",
    "routine_maintenance double,accessory double, accident_repair double, general_repair double,\\\n",
    "first_maintance double, service_act double,belong_dealer_code string, city string, customer_type string,\\\n",
    "purchase_date date,ies_name string, province string, family_name int, city_class string, member_type string,\\\n",
    "whether_bind_wechat string, car_body_type string, gearbox string, crew_protection_system string,\\\n",
    "car_class string, output_year string, assembly_factory string, user_tag string, repair_type string,\\\n",
    "mark string,gender_code string,member_status string,member_age int)')\n",
    "spark.sql('insert overwrite table clms.skd_zhudan select * from fin_zhudan_reg')"
   ]
  },
  {
   "cell_type": "markdown",
   "metadata": {},
   "source": [
    "#### <font color=blue>3.统一特征工程以后的baoyang_model数据保存"
   ]
  },
  {
   "cell_type": "code",
   "execution_count": 30,
   "metadata": {},
   "outputs": [],
   "source": [
    "# baoyang_model=spark.sql('select * from clms.skd_baoyang_model')\n",
    "# print(baoyang_model.show(5))"
   ]
  },
  {
   "cell_type": "code",
   "execution_count": 31,
   "metadata": {},
   "outputs": [
    {
     "name": "stdout",
     "output_type": "stream",
     "text": [
      "['vin', 'repair_date', 'mile', 'repair_amount', 'repair_amount_pre_discount', 'labor_fee', 'part_fee', 'claim', 'routine_maintenance', 'accessory', 'accident_repair', 'general_repair', 'first_maintance', 'service_act', 'belong_dealer_code', 'purchase_date', 'ies_name', 'gender_code', 'customer_type', 'family_name', 'member_type', 'member_status', 'member_age', 'whether_bind_wechat', 'province', 'city', 'city_class', 'car_body_type', 'gearbox', 'crew_protection_system', 'car_class', 'output_year', 'assembly_factory', 'user_tag', 'repair_type', 'mark']\n"
     ]
    }
   ],
   "source": [
    "print(baoyang_model.columns)"
   ]
  },
  {
   "cell_type": "code",
   "execution_count": 32,
   "metadata": {},
   "outputs": [
    {
     "name": "stdout",
     "output_type": "stream",
     "text": [
      "重新清洗了数据,所以需要重新跑last_run\n"
     ]
    }
   ],
   "source": [
    "print('重新清洗了数据,所以需要重新跑last_run')\n",
    "if 'baoyang_times' in baoyang_model.columns:\n",
    "    baoyang_model=baoyang_model.drop('baoyang_times')\n",
    "tmp=baoyang_model.select('vin','repair_date').dropDuplicates().groupBy('vin').agg(count('repair_date').alias('baoyang_times'))\n",
    "baoyang_model=baoyang_model.join(tmp,on=['vin'],how='left')\n",
    "\n",
    "if 'baoyang_id' in baoyang_model.columns:\n",
    "    baoyang_model=baoyang_model.drop('baoyang_id')\n",
    "baoyang_model=baoyang_model.withColumn('baoyang_id',row_number().over(Window.partitionBy('vin').orderBy(asc('repair_date'))))\n",
    "\n",
    "baoyang_model=baoyang_model.withColumn('last_repair_date',lag(col('repair_date'),-1).over(Window.partitionBy('vin').orderBy(desc('repair_date'))))\n",
    "baoyang_model=baoyang_model.withColumn('last_mile',lag(col('mile'),-1).over(Window.partitionBy('vin').orderBy(desc('repair_date'))))\n",
    "baoyang_model=baoyang_model.withColumn('last_repair_date',when(col('last_repair_date').isNull(),col('purchase_date')).otherwise(col('last_repair_date')))\n",
    "baoyang_model=baoyang_model.withColumn('last_mile',when(col('last_mile').isNull(),lit(0)).otherwise(col('last_mile')))\n",
    "baoyang_model=baoyang_model.withColumn('daydiff',datediff(col('repair_date'),col('last_repair_date')))\n",
    "baoyang_model=baoyang_model.withColumn('milediff',col('mile')-col('last_mile'))\n",
    "baoyang_model=baoyang_model.withColumn('dayofmile',col('milediff')/col('daydiff'))\n",
    "\n",
    "baoyang_model=baoyang_model.persist(pyspark.StorageLevel.MEMORY_AND_DISK_SER)\n",
    "baoyang_model=broadcast(baoyang_model)"
   ]
  },
  {
   "cell_type": "code",
   "execution_count": 33,
   "metadata": {},
   "outputs": [],
   "source": [
    "baoyang_model=baoyang_model.withColumn('repair_daydiff',datediff(col('repair_date'),col('purchase_date'))).\\\n",
    "withColumn('repair_milediff',col('mile')-0).\\\n",
    "withColumn('repair_dayofmile',col('repair_milediff')/col('repair_daydiff')).\\\n",
    "withColumn('today',to_date(lit(today))).\\\n",
    "withColumn('buy_year',year('purchase_date')).\\\n",
    "withColumn('buy_mon',month('purchase_date')).\\\n",
    "withColumn('car_age_bin',ceil((datediff(col('today'),col('purchase_date')))/180)).\\\n",
    "withColumn('buy_id',(col('buy_year')-2013)*12+col('buy_mon')).\\\n",
    "withColumn('year',year(col('repair_date'))).\\\n",
    "withColumn('mon',month(col('repair_date'))).\\\n",
    "withColumn('day',dayofmonth(col('repair_date'))).\\\n",
    "withColumn('xun',when(col('day').isin([1,2,3,4,5,6,7,8,9,10]),lit(1)).\\\n",
    "           when(col('day').isin([11,12,13,14,15,16,17,18,19,20]),lit(2)).otherwise(lit(3))).\\\n",
    "withColumn('dayofweek',date_format('repair_date','u')).\\\n",
    "withColumn('dayofweek',when(col('dayofweek')=='1',lit(1)).when(col('dayofweek')=='2',lit(2)).\\\n",
    "           when(col('dayofweek')=='3',lit(3)).when(col('dayofweek')=='4',lit(4)).\\\n",
    "           when(col('dayofweek')=='5',lit(5)).when(col('dayofweek')=='6',lit(6)).\\\n",
    "           when(col('dayofweek')=='7',lit(7)).otherwise(lit(0))).\\\n",
    "withColumn('is_workday',when(col('dayofweek').isin([1,2,3,4,5]),lit(1)).otherwise(lit(0)))\n",
    "\n",
    "# baoyang_model=baoyang_model.withColumn('city_class',when(col('city_class')=='三线城市',lit(4)).\\\n",
    "#                                        when(col('city_class')=='一线城市',lit(7)).\\\n",
    "#                                        when(col('city_class')=='二线发达城市',lit(6)).\\\n",
    "#                                        when(col('city_class')=='二线城市',lit(5)).\\\n",
    "#                                        when(col('city_class')=='四线城市',lit(3)).\\\n",
    "#                                        when(col('city_class')=='六线城市',lit(1)).\\\n",
    "#                                        when(col('city_class')=='五线城市',lit(2)).\\\n",
    "#                                        when(col('city_class')=='未知',lit(0)).otherwise(lit(0)))\n",
    "\n",
    "# print([x[0] for x in baoyang_model.select('city_class').distinct().collect()])\n",
    "\n",
    "baoyang_model=baoyang_model.withColumn('next_mile',lag(col('mile'),1).over(Window.partitionBy('vin').orderBy(desc('repair_date'))))\n",
    "baoyang_model=baoyang_model.withColumn('next_repair_date',lag(col('repair_date'),1).over(Window.partitionBy('vin').orderBy(desc('repair_date')))).\\\n",
    "withColumn('whether_discount',col('repair_amount')-col('repair_amount_pre_discount')).\\\n",
    "withColumn('whether_discount',when(col('whether_discount')<=-10,lit(1)).otherwise(lit(0))).\\\n",
    "withColumn('dayofweek',col('dayofweek').cast('Int'))"
   ]
  },
  {
   "cell_type": "code",
   "execution_count": 34,
   "metadata": {},
   "outputs": [],
   "source": [
    "baoyang_model=baoyang_model.persist(pyspark.StorageLevel.MEMORY_AND_DISK_SER)\n",
    "baoyang_model=broadcast(baoyang_model)"
   ]
  },
  {
   "cell_type": "code",
   "execution_count": 35,
   "metadata": {},
   "outputs": [
    {
     "name": "stdout",
     "output_type": "stream",
     "text": [
      "[]\n",
      "['mark']\n"
     ]
    }
   ],
   "source": [
    "tongyi_cols=['vin','repair_date','mile','repair_amount','repair_amount_pre_discount','labor_fee','part_fee',\n",
    "             'claim','routine_maintenance','accessory','accident_repair','general_repair','first_maintance',\n",
    "             'service_act','belong_dealer_code','city','purchase_date',\n",
    "             'ies_name','province','family_name' ,'city_class','member_type','whether_bind_wechat',\n",
    "             'car_body_type','gearbox','crew_protection_system','car_class','output_year','assembly_factory',\n",
    "             'user_tag','repair_type','baoyang_times','last_repair_date','last_mile' ,'daydiff',\n",
    "             'milediff','dayofmile','baoyang_id', 'repair_daydiff','repair_milediff',\n",
    "             'repair_dayofmile', 'today','buy_year','buy_mon','car_age_bin' ,'buy_id','year','mon','day',\n",
    "             'dayofweek','xun','is_workday','next_mile','next_repair_date','whether_discount',\n",
    "            'gender_code', 'customer_type', 'member_status', 'member_age']\n",
    "cols=baoyang_model.columns\n",
    "same1=[x for x in tongyi_cols if x not in cols]\n",
    "print(same1)\n",
    "same2=[x for x in cols if x not in tongyi_cols]\n",
    "print(same2)"
   ]
  },
  {
   "cell_type": "code",
   "execution_count": 36,
   "metadata": {},
   "outputs": [],
   "source": [
    "baoyang_model=baoyang_model.select(tongyi_cols).dropDuplicates()"
   ]
  },
  {
   "cell_type": "code",
   "execution_count": 37,
   "metadata": {},
   "outputs": [
    {
     "name": "stdout",
     "output_type": "stream",
     "text": [
      "318261\n",
      "+-----------------+-----------+-----+-------------+--------------------------+---------+--------+-----+-------------------+---------+---------------+--------------+---------------+-----------+------------------+----+-------------+--------+--------+-----------+----------+-----------+-------------------+-------------+-------+----------------------+---------+-----------+----------------+------------+--------------------+-------------+----------------+---------+-------+--------+------------------+----------+--------------+---------------+-----------------+----------+--------+-------+-----------+------+----+---+---+---------+---+----------+---------+----------------+----------------+-----------+-------------+-------------+----------+\n",
      "|              vin|repair_date| mile|repair_amount|repair_amount_pre_discount|labor_fee|part_fee|claim|routine_maintenance|accessory|accident_repair|general_repair|first_maintance|service_act|belong_dealer_code|city|purchase_date|ies_name|province|family_name|city_class|member_type|whether_bind_wechat|car_body_type|gearbox|crew_protection_system|car_class|output_year|assembly_factory|    user_tag|         repair_type|baoyang_times|last_repair_date|last_mile|daydiff|milediff|         dayofmile|baoyang_id|repair_daydiff|repair_milediff| repair_dayofmile|     today|buy_year|buy_mon|car_age_bin|buy_id|year|mon|day|dayofweek|xun|is_workday|next_mile|next_repair_date|whether_discount|gender_code|customer_type|member_status|member_age|\n",
      "+-----------------+-----------+-----+-------------+--------------------------+---------+--------+-----+-------------------+---------+---------------+--------------+---------------+-----------+------------------+----+-------------+--------+--------+-----------+----------+-----------+-------------------+-------------+-------+----------------------+---------+-----------+----------------+------------+--------------------+-------------+----------------+---------+-------+--------+------------------+----------+--------------+---------------+-----------------+----------+--------+-------+-----------+------+----+---+---+---------+---+----------+---------+----------------+----------------+-----------+-------------+-------------+----------+\n",
      "|LSV2C60Z1HN054761| 2019-09-27|33196|         1433|                      1433|      578|     855|    1|                  1|        0|              0|             0|              0|          1|          74308161|  上海|   2018-04-26|    柯迪亚克|      上海|          3|      一线城市|         金卡|                  是|            2|      C|                     6|       0Z|          H|               N|2,C,6,0Z,H,N|claim,routine_mai...|            5|      2019-02-16|    22729|    223|   10467|46.937219730941706|         5|           519|          33196|63.96146435452794|2020-08-06|    2018|      4|          5|    64|2019|  9| 27|        5|  3|         1|     null|            null|               0|          1|           个人|           有效|         3|\n",
      "|LSV2C60Z1HN054761| 2019-02-16|22729|         1499|                      1499|      375|    1124|    0|                  1|        0|              0|             0|              0|          0|          74308161|  上海|   2018-04-26|    柯迪亚克|      上海|          3|      一线城市|         金卡|                  是|            2|      C|                     6|       0Z|          H|               N|2,C,6,0Z,H,N| routine_maintenance|            5|      2018-11-14|    14672|     94|    8057|  85.7127659574468|         4|           296|          22729|76.78716216216216|2020-08-06|    2018|      4|          5|    64|2019|  2| 16|        6|  2|         0|    33196|      2019-09-27|               0|          1|           个人|           有效|         3|\n",
      "|LSV2C60Z1HN054761| 2018-11-14|14672|          741|                       741|      312|     429|    0|                  1|        0|              0|             0|              0|          0|          74308161|  上海|   2018-04-26|    柯迪亚克|      上海|          3|      一线城市|         金卡|                  是|            2|      C|                     6|       0Z|          H|               N|2,C,6,0Z,H,N| routine_maintenance|            5|      2018-08-07|     9628|     99|    5044| 50.94949494949495|         3|           202|          14672|72.63366336633663|2020-08-06|    2018|      4|          5|    64|2018| 11| 14|        3|  2|         1|    22729|      2019-02-16|               0|          1|           个人|           有效|         3|\n",
      "|LSV2C60Z1HN054761| 2018-08-07| 9628|          741|                       741|      312|     429|    0|                  1|        0|              0|             0|              0|          0|          74308161|  上海|   2018-04-26|    柯迪亚克|      上海|          3|      一线城市|         金卡|                  是|            2|      C|                     6|       0Z|          H|               N|2,C,6,0Z,H,N| routine_maintenance|            5|      2018-06-27|     4550|     41|    5078|123.85365853658537|         2|           103|           9628|93.47572815533981|2020-08-06|    2018|      4|          5|    64|2018|  8|  7|        2|  1|         1|    14672|      2018-11-14|               0|          1|           个人|           有效|         3|\n",
      "|LSV2C60Z1HN054761| 2018-06-27| 4550|          389|                       388|       42|     347|    0|                  0|        0|              0|             0|              1|          0|          74308161|  上海|   2018-04-26|    柯迪亚克|      上海|          3|      一线城市|         金卡|                  是|            2|      C|                     6|       0Z|          H|               N|2,C,6,0Z,H,N|     first_maintance|            5|      2018-04-26|        0|     62|    4550| 73.38709677419355|         1|            62|           4550|73.38709677419355|2020-08-06|    2018|      4|          5|    64|2018|  6| 27|        3|  3|         1|     9628|      2018-08-07|               0|          1|           个人|           有效|         3|\n",
      "+-----------------+-----------+-----+-------------+--------------------------+---------+--------+-----+-------------------+---------+---------------+--------------+---------------+-----------+------------------+----+-------------+--------+--------+-----------+----------+-----------+-------------------+-------------+-------+----------------------+---------+-----------+----------------+------------+--------------------+-------------+----------------+---------+-------+--------+------------------+----------+--------------+---------------+-----------------+----------+--------+-------+-----------+------+----+---+---+---------+---+----------+---------+----------------+----------------+-----------+-------------+-------------+----------+\n",
      "only showing top 5 rows\n",
      "\n",
      "None\n"
     ]
    }
   ],
   "source": [
    "print(baoyang_model.count())\n",
    "print(baoyang_model.show(5))"
   ]
  },
  {
   "cell_type": "code",
   "execution_count": 38,
   "metadata": {},
   "outputs": [
    {
     "data": {
      "text/plain": [
       "DataFrame[]"
      ]
     },
     "execution_count": 38,
     "metadata": {},
     "output_type": "execute_result"
    }
   ],
   "source": [
    "baoyang_model.registerTempTable('baoyang_model_fin_reg')\n",
    "spark.sql('drop table if exists clms.skd_baoyang_model')\n",
    "spark.sql('create table if not exists clms.skd_baoyang_model (vin string, repair_date date, mile double,\\\n",
    "repair_amount double,repair_amount_pre_discount double, labor_fee double, part_fee double, claim double,\\\n",
    "routine_maintenance double,accessory double, accident_repair double, general_repair double,\\\n",
    "first_maintance double, service_act double,belong_dealer_code string, city string, purchase_date date,\\\n",
    "ies_name string, province string, family_name int, city_class string, member_type string,\\\n",
    "whether_bind_wechat string, car_body_type string, gearbox string, \\\n",
    "crew_protection_system string,car_class string, output_year string, assembly_factory string, user_tag string, \\\n",
    "repair_type string, baoyang_times double, last_repair_date date, last_mile double, daydiff double,\\\n",
    "milediff double,dayofmile double, baoyang_id int,repair_daydiff double,\\\n",
    "repair_milediff double, repair_dayofmile double, today date,buy_year int,\\\n",
    "buy_mon int,car_age_bin double,buy_id int,year int,mon int,day int,dayofweek int,\\\n",
    "xun int,is_workday int,next_mile double, next_repair_date date,whether_discount int,\\\n",
    "gender_code string, customer_type string, member_status string, member_age int)')\n",
    "spark.sql('insert overwrite table clms.skd_baoyang_model select * from baoyang_model_fin_reg')"
   ]
  },
  {
   "cell_type": "code",
   "execution_count": 39,
   "metadata": {},
   "outputs": [],
   "source": [
    "# baoyangdff=baoyang_model.toPandas()\n",
    "# baoyangdff.to_excel('baoyang_model_engine.xlsx',index=False,encoding='gbk')"
   ]
  },
  {
   "cell_type": "code",
   "execution_count": 40,
   "metadata": {},
   "outputs": [
    {
     "name": "stdout",
     "output_type": "stream",
     "text": [
      "6.745045288403829\n"
     ]
    }
   ],
   "source": [
    "print((time.time()-ft)/60)"
   ]
  },
  {
   "cell_type": "code",
   "execution_count": null,
   "metadata": {},
   "outputs": [],
   "source": []
  },
  {
   "cell_type": "code",
   "execution_count": null,
   "metadata": {},
   "outputs": [],
   "source": []
  },
  {
   "cell_type": "code",
   "execution_count": null,
   "metadata": {},
   "outputs": [],
   "source": []
  },
  {
   "cell_type": "code",
   "execution_count": null,
   "metadata": {},
   "outputs": [],
   "source": []
  },
  {
   "cell_type": "code",
   "execution_count": null,
   "metadata": {},
   "outputs": [],
   "source": []
  }
 ],
 "metadata": {
  "kernelspec": {
   "display_name": "Python 3",
   "language": "python",
   "name": "python3"
  },
  "language_info": {
   "codemirror_mode": {
    "name": "ipython",
    "version": 3
   },
   "file_extension": ".py",
   "mimetype": "text/x-python",
   "name": "python",
   "nbconvert_exporter": "python",
   "pygments_lexer": "ipython3",
   "version": "3.6.4"
  }
 },
 "nbformat": 4,
 "nbformat_minor": 2
}
